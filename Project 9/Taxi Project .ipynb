{
 "cells": [
  {
   "cell_type": "code",
   "execution_count": 1,
   "metadata": {},
   "outputs": [],
   "source": [
    "import findspark\n",
    "findspark.init()"
   ]
  },
  {
   "cell_type": "code",
   "execution_count": 2,
   "metadata": {},
   "outputs": [],
   "source": [
    "import pyspark\n",
    "from pyspark.sql import SparkSession,SQLContext\n",
    "from pyspark import SparkContext\n",
    "spark = SparkSession.builder.appName(\"Taxi_project\").getOrCreate()\n",
    "sc=SparkContext.getOrCreate()"
   ]
  },
  {
   "cell_type": "code",
   "execution_count": 3,
   "metadata": {},
   "outputs": [],
   "source": [
    "from pyspark.sql import SQLContext\n",
    "sqlcontext = SQLContext(spark)"
   ]
  },
  {
   "cell_type": "code",
   "execution_count": 4,
   "metadata": {},
   "outputs": [],
   "source": [
    "\n",
    "file_loc=\"taxi-data-sorted-small.csv\"\n",
    "lines=sc.textFile(file_loc)\n",
    "taxilines = lines.map(lambda x:x.split(\",\"))\n",
    "\n",
    "#exception handling and removing wrong data lines \n",
    "\n",
    "def isfloat(value):\n",
    "    try:\n",
    "        float(value)\n",
    "        return True\n",
    "    except:\n",
    "        return False\n",
    "    \n",
    "# for exmaple, remove lines if they dont have 16 values and \n",
    "def correctRows(p):\n",
    "    if (len(p)==17):\n",
    "        if isfloat(p[5] and isfloat(p[11])):\n",
    "            if(float(p[5])!=0 and float(p[11])!=0):\n",
    "                return p\n",
    "#cleaning up data\n",
    "texilinesCorrected = taxilines.filter(correctRows)"
   ]
  },
  {
   "cell_type": "code",
   "execution_count": 5,
   "metadata": {},
   "outputs": [],
   "source": [
    "taxi_clean_data = texilinesCorrected.toDF(['Taxi_id', 'Driver_id', 'Pickup_date_time', 'Dropoff_date_time', 'trip_time_in_sec', 'trip_dist', 'pickup_longitude', 'pickup_latitude', 'dropoff_longitude', 'dropoff_latitude', 'payment_type','fare_amount','surcharge','mta_tax','tip_amount','tolls_amount','total_amount'])"
   ]
  },
  {
   "cell_type": "code",
   "execution_count": 48,
   "metadata": {},
   "outputs": [
    {
     "name": "stdout",
     "output_type": "stream",
     "text": [
      "+--------------------+--------------------+-------------------+-------------------+----------------+---------+----------------+---------------+-----------------+----------------+------------+-----------+---------+-------+----------+------------+------------+\n",
      "|             Taxi_id|           Driver_id|   Pickup_date_time|  Dropoff_date_time|trip_time_in_sec|trip_dist|pickup_longitude|pickup_latitude|dropoff_longitude|dropoff_latitude|payment_type|fare_amount|surcharge|mta_tax|tip_amount|tolls_amount|total_amount|\n",
      "+--------------------+--------------------+-------------------+-------------------+----------------+---------+----------------+---------------+-----------------+----------------+------------+-----------+---------+-------+----------+------------+------------+\n",
      "|07290D3599E7A0D62...|E7750A37CAB07D0DF...|2013-01-01 00:00:00|2013-01-01 00:02:00|             120|     0.44|      -73.956528|      40.716976|       -73.962440|       40.715008|         CSH|       3.50|     0.50|   0.50|      0.00|        0.00|        4.50|\n",
      "|0EC22AAF491A8BD91...|778C92B26AE78A9EB...|2013-01-01 00:01:00|2013-01-01 00:03:00|             120|     0.71|      -73.973145|      40.752827|       -73.965897|       40.760445|         CSH|       4.00|     0.50|   0.50|      0.00|        0.00|        5.00|\n",
      "|1390FB380189DF6BB...|BE317B986700F63C4...|2013-01-01 00:01:00|2013-01-01 00:03:00|             120|     0.48|      -74.004173|      40.720947|       -74.003838|       40.726189|         CSH|       4.00|     0.50|   0.50|      0.00|        0.00|        5.00|\n",
      "|3B4129883A1D05BE8...|7077F9FD5AD649AEA...|2013-01-01 00:01:00|2013-01-01 00:03:00|             120|     0.61|      -73.987373|      40.724861|       -73.983772|       40.730995|         CRD|       4.00|     0.50|   0.50|      0.00|        0.00|        5.00|\n",
      "|DFBFA82ECA8F7059B...|CF8604E72D83840FB...|2013-01-01 00:02:00|2013-01-01 00:03:00|              60|     0.39|      -73.981544|      40.781475|       -73.979439|       40.784386|         CRD|       3.00|     0.50|   0.50|      0.70|        0.00|        4.70|\n",
      "|468244D1361B8A3EB...|BB899DFEA9CC964B5...|2013-01-01 00:00:00|2013-01-01 00:04:00|             240|     1.71|      -73.955383|      40.779728|       -73.967758|       40.760326|         CSH|       6.50|     0.50|   0.50|      0.00|        0.00|        7.50|\n",
      "|5F78CC6D4ECD0541B...|B7567F5BFD558C665...|2013-01-01 00:00:00|2013-01-01 00:04:00|             240|     1.21|      -73.973000|      40.793140|       -73.981453|       40.778465|         CRD|       6.00|     0.50|   0.50|      1.30|        0.00|        8.30|\n",
      "|6BA29E9A69B10F218...|ED368552102F12EA2...|2013-01-01 00:01:00|2013-01-01 00:04:00|             180|     0.74|      -73.971138|      40.758980|       -73.972206|       40.752502|         CRD|       4.50|     0.50|   0.50|      0.00|        0.00|        5.50|\n",
      "|C306CAC565429C128...|E255D5DFB9A967B9D...|2013-01-01 00:01:00|2013-01-01 00:04:00|             180|     0.84|      -73.942841|      40.797031|       -73.934540|       40.797314|         CSH|       4.50|     0.50|   0.50|      0.00|        0.00|        5.50|\n",
      "|DD467ED2E7DDB5C8B...|1D7876BD692018A5B...|2013-01-01 00:01:00|2013-01-01 00:04:00|             180|     0.95|      -73.976753|      40.750706|       -73.990089|       40.750729|         CSH|       5.00|     0.50|   0.50|      0.00|        0.00|        6.00|\n",
      "|120E700FE35B2DDBE...|3EDDD1433E2276DF9...|2013-01-01 00:03:00|2013-01-01 00:05:00|             120|     0.52|      -73.981972|      40.752525|       -73.985313|       40.747738|         CSH|       4.00|     0.50|   0.50|      0.00|        0.00|        5.00|\n",
      "|256C6A3CA47F81497...|8FA961982C3FEF438...|2013-01-01 00:00:00|2013-01-01 00:05:00|             300|     0.13|      -73.969841|      40.797359|       -73.961899|       40.812466|         CSH|       6.50|     0.50|   0.50|      0.00|        0.00|        7.50|\n",
      "|655E773C92FA44635...|B6EAE07E2AD023B38...|2013-01-01 00:02:00|2013-01-01 00:05:00|             180|     1.55|      -74.003197|      40.733032|       -74.012985|       40.717377|         CRD|       6.00|     0.50|   0.50|      1.62|        0.00|        8.62|\n",
      "|76942C3205E17D7E7...|25BA06A87905667AA...|2013-01-01 00:00:00|2013-01-01 00:05:00|             300|     0.61|      -73.955925|      40.781887|       -73.963181|       40.777832|         CSH|       5.00|     0.50|   0.50|      0.00|        0.00|        6.00|\n",
      "|8B5F45807D8EC24DD...|577D1B6729EF9014C...|2013-01-01 00:00:00|2013-01-01 00:05:00|             300|     0.06|      -73.984871|      40.753723|       -73.983849|       40.754467|         CSH|       4.50|     0.50|   0.50|      0.00|        0.00|        5.50|\n",
      "|D79D2C8C83066AF71...|A2AB59B1DBAB1A015...|2013-01-01 00:01:00|2013-01-01 00:05:00|             240|     0.59|      -74.004517|      40.721241|       -73.997459|       40.719055|         CRD|       5.00|     0.50|   0.50|      1.10|        0.00|        7.10|\n",
      "|F45098D1F50A0E94E...|CA79A5EDAD78E6E50...|2013-01-01 00:04:00|2013-01-01 00:05:00|              60|     0.52|      -73.987389|      40.770588|       -73.984077|       40.775196|         CSH|       3.50|     0.50|   0.50|      0.00|        0.00|        4.50|\n",
      "|7CC2C787A937EE1F8...|0758FB6257076E88C...|2013-01-01 00:00:00|2013-01-01 00:06:00|             360|     0.98|      -73.978325|      40.778091|       -73.981834|       40.768639|         CSH|       6.00|     0.50|   0.50|      0.00|        0.00|        7.00|\n",
      "|A1436A9F8F71EADB5...|1D8906DAF98896F75...|2013-01-01 00:02:00|2013-01-01 00:06:00|             240|     0.53|      -73.981934|      40.769608|       -73.977295|       40.774387|         CSH|       4.50|     0.50|   0.50|      0.00|        0.00|        5.50|\n",
      "|AFD2466E58F11165B...|CAD4B59BED1B935BA...|2013-01-01 00:04:00|2013-01-01 00:06:00|             120|     0.98|      -73.954994|      40.769287|       -73.947144|       40.779976|         CSH|       4.50|     0.50|   0.50|      0.00|        0.00|        5.50|\n",
      "+--------------------+--------------------+-------------------+-------------------+----------------+---------+----------------+---------------+-----------------+----------------+------------+-----------+---------+-------+----------+------------+------------+\n",
      "only showing top 20 rows\n",
      "\n"
     ]
    }
   ],
   "source": [
    "sqlcontext.sql(\"select * from clean_data\").show()"
   ]
  },
  {
   "cell_type": "code",
   "execution_count": 6,
   "metadata": {},
   "outputs": [
    {
     "name": "stdout",
     "output_type": "stream",
     "text": [
      "1990270\n",
      "17\n"
     ]
    }
   ],
   "source": [
    "print(taxi_clean_data.count())\n",
    "print(len(taxi_clean_data.columns))"
   ]
  },
  {
   "cell_type": "code",
   "execution_count": 7,
   "metadata": {},
   "outputs": [],
   "source": [
    "#drop NA values\n",
    "clean_data = taxi_clean_data.dropna()"
   ]
  },
  {
   "cell_type": "code",
   "execution_count": 8,
   "metadata": {},
   "outputs": [
    {
     "name": "stdout",
     "output_type": "stream",
     "text": [
      "1990270\n",
      "17\n"
     ]
    }
   ],
   "source": [
    "print(taxi_clean_data.count())\n",
    "print(len(taxi_clean_data.columns))"
   ]
  },
  {
   "cell_type": "code",
   "execution_count": 9,
   "metadata": {},
   "outputs": [],
   "source": [
    "clean_data.registerTempTable(\"clean_data\")"
   ]
  },
  {
   "cell_type": "code",
   "execution_count": 25,
   "metadata": {},
   "outputs": [
    {
     "name": "stdout",
     "output_type": "stream",
     "text": [
      "root\n",
      " |-- Taxi_id: string (nullable = true)\n",
      " |-- Driver_id: string (nullable = true)\n",
      " |-- Pickup_date_time: string (nullable = true)\n",
      " |-- Dropoff_date_time: string (nullable = true)\n",
      " |-- trip_time_in_sec: string (nullable = true)\n",
      " |-- trip_dist: string (nullable = true)\n",
      " |-- pickup_longitude: string (nullable = true)\n",
      " |-- pickup_latitude: string (nullable = true)\n",
      " |-- dropoff_longitude: string (nullable = true)\n",
      " |-- dropoff_latitude: string (nullable = true)\n",
      " |-- payment_type: string (nullable = true)\n",
      " |-- fare_amount: string (nullable = true)\n",
      " |-- surcharge: string (nullable = true)\n",
      " |-- mta_tax: string (nullable = true)\n",
      " |-- tip_amount: string (nullable = true)\n",
      " |-- tolls_amount: string (nullable = true)\n",
      " |-- total_amount: string (nullable = true)\n",
      "\n"
     ]
    }
   ],
   "source": [
    "taxi_clean_data.printSchema()"
   ]
  },
  {
   "cell_type": "code",
   "execution_count": 46,
   "metadata": {},
   "outputs": [
    {
     "name": "stdout",
     "output_type": "stream",
     "text": [
      "+--------------------+----------------+\n",
      "|             Taxi_id|number_of_driver|\n",
      "+--------------------+----------------+\n",
      "|6FFCF7A4F34BA4423...|             585|\n",
      "|D5C7CD37EA4D372D0...|             569|\n",
      "|849E4868258601064...|             558|\n",
      "|DA1A4CB0E75444C73...|             550|\n",
      "|A979CDA04CFB8BA3D...|             549|\n",
      "|A532B1493C4DD88C4...|             544|\n",
      "|818B2426C5493017D...|             539|\n",
      "|075E4BFE660742128...|             534|\n",
      "|FF40FB8123940D9F9...|             533|\n",
      "|4DBFC74756F934CC9...|             531|\n",
      "+--------------------+----------------+\n",
      "\n"
     ]
    }
   ],
   "source": [
    "# Task 1 TOP 10 TAXIS THAT THAT HAVE HAD THE LARGEST NUMBER OF DRIVERS. \n",
    "sqlcontext.sql(\"SELECT Taxi_id , count('Driver_id') AS number_of_driver from clean_data group by Taxi_id order by count('Driver_id') desc limit 10;\").show(10)"
   ]
  },
  {
   "cell_type": "code",
   "execution_count": 45,
   "metadata": {},
   "outputs": [
    {
     "name": "stdout",
     "output_type": "stream",
     "text": [
      "+--------------------+------------------------+\n",
      "|           Driver_id|avg_money_earned_per_min|\n",
      "+--------------------+------------------------+\n",
      "|30B2ACBAF00230553...|                   702.0|\n",
      "|4C3B2A31227663A59...|                   625.0|\n",
      "|08026D69508127F4D...|                   375.0|\n",
      "|6E1D7195E38AA7A36...|       317.3076923076923|\n",
      "|E8E22AC46DF6AC99C...|                   273.0|\n",
      "|975D5E840C0F5D961...|      190.90909090909093|\n",
      "|17F72121B9F612D81...|      107.14285714285714|\n",
      "|619BF4020E6542AA0...|      105.88235294117648|\n",
      "|CD9D0B4429613F1B6...|      103.25172413793103|\n",
      "|52C99F4F8CD2560F8...|       89.28571428571429|\n",
      "+--------------------+------------------------+\n",
      "\n"
     ]
    }
   ],
   "source": [
    "#Task 2 TOP 10 BEST DRIVER ARE IN TERM OF THEIR AVERAGE EARNED MONEY PER MINUTE\n",
    "sqlcontext.sql(\"select Driver_id, (AVG(total_amount)/(AVG(trip_time_in_sec)/60)) AS avg_money_earned_per_min from clean_data group by Driver_id order by (AVG(total_amount)/(AVG(trip_time_in_sec)/60)) desc limit 10;\").show()"
   ]
  },
  {
   "cell_type": "code",
   "execution_count": 42,
   "metadata": {},
   "outputs": [
    {
     "name": "stdout",
     "output_type": "stream",
     "text": [
      "+----+----------------------+---------------------+--------------------+\n",
      "|TIME|Total_surcharge_amount|Total_travel_distance|        Profit_ratio|\n",
      "+----+----------------------+---------------------+--------------------+\n",
      "|  19|               93973.5|   335863.16000000015|  0.2797969863679004|\n",
      "|  18|               92658.5|   339670.96999999945|  0.2727889875310809|\n",
      "|  17|               74738.5|    309579.8500000004|  0.2414191362906853|\n",
      "|  16|               59141.0|   273484.30000000016| 0.21625007358740508|\n",
      "|  20|               56698.5|    326477.0599999999|  0.1736676383939503|\n",
      "|  21|               53744.5|   323382.40999999974| 0.16619487745174527|\n",
      "|  22|               50954.5|    312854.0799999998|  0.1628698593286686|\n",
      "|  23|               39627.5|            257190.42| 0.15407844506805501|\n",
      "|   2|               18976.5|   124523.37999999989|  0.1523930686751357|\n",
      "|   0|               32440.5|            216450.19| 0.14987512831474067|\n",
      "|   1|               23359.5|   157744.13000000024| 0.14808474965122292|\n",
      "|   3|               14707.5|   104491.94999999995|  0.1407524694486035|\n",
      "|   4|               11257.0|    96834.97999999992| 0.11624931403920369|\n",
      "|   5|                9521.5|   103116.99999999997| 0.09233686007156922|\n",
      "|  15|                   9.5|    304992.9999999996|3.114825586160998E-5|\n",
      "|   6|                   1.5|            155507.33|9.645847562298189E-6|\n",
      "|  12|                   1.5|   259795.99999999997|5.773760950899937...|\n",
      "|  11|                   1.0|   244987.90000000008|4.081834245691316E-6|\n",
      "|  13|                   0.0|            274973.64|                 0.0|\n",
      "|   7|                   0.0|    226322.1399999997|                 0.0|\n",
      "|   9|                   0.0|   242875.29000000018|                 0.0|\n",
      "|  10|                   0.0|    235301.5699999997|                 0.0|\n",
      "|  14|                   0.0|   302995.44000000024|                 0.0|\n",
      "|   8|                   0.0|   250561.13000000003|                 0.0|\n",
      "+----+----------------------+---------------------+--------------------+\n",
      "\n"
     ]
    }
   ],
   "source": [
    "#Task 3 Time of the day that has the highest profit ratio. \n",
    "sqlcontext.sql(\"SELECT hour(Pickup_date_time) AS TIME, SUM(surcharge) AS Total_surcharge_amount, SUM(trip_dist) AS Total_travel_distance,(SUM(surcharge)/SUM(trip_dist)) AS Profit_ratio from clean_data group by hour(Pickup_date_time) order by (SUM(surcharge)/SUM(trip_dist)) desc;\").show(30)"
   ]
  },
  {
   "cell_type": "code",
   "execution_count": null,
   "metadata": {},
   "outputs": [],
   "source": []
  }
 ],
 "metadata": {
  "kernelspec": {
   "display_name": "Python 3",
   "language": "python",
   "name": "python3"
  },
  "language_info": {
   "codemirror_mode": {
    "name": "ipython",
    "version": 3
   },
   "file_extension": ".py",
   "mimetype": "text/x-python",
   "name": "python",
   "nbconvert_exporter": "python",
   "pygments_lexer": "ipython3",
   "version": "3.7.4"
  }
 },
 "nbformat": 4,
 "nbformat_minor": 2
}
