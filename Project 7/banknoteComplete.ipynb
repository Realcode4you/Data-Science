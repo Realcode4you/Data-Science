{
 "cells": [
  {
   "cell_type": "code",
   "execution_count": 132,
   "metadata": {
    "colab": {
     "base_uri": "https://localhost:8080/"
    },
    "id": "86aDtfl-G1hx",
    "outputId": "db1742db-2b09-471d-85cd-e93400a9cd1e"
   },
   "outputs": [
    {
     "name": "stdout",
     "output_type": "stream",
     "text": [
      "Drive already mounted at /content/drive; to attempt to forcibly remount, call drive.mount(\"/content/drive\", force_remount=True).\n"
     ]
    }
   ],
   "source": [
    "from google.colab import drive\n",
    "drive.mount('/content/drive')"
   ]
  },
  {
   "cell_type": "code",
   "execution_count": null,
   "metadata": {
    "id": "5C1Ct3y6Q8Yw"
   },
   "outputs": [],
   "source": [
    "from support import *"
   ]
  },
  {
   "cell_type": "code",
   "execution_count": 133,
   "metadata": {
    "colab": {
     "base_uri": "https://localhost:8080/",
     "height": 204
    },
    "id": "X4HBD14hfPnT",
    "outputId": "f353eb10-e053-4cb6-c61a-8040c7e4b91b"
   },
   "outputs": [
    {
     "data": {
      "text/html": [
       "<div>\n",
       "<style scoped>\n",
       "    .dataframe tbody tr th:only-of-type {\n",
       "        vertical-align: middle;\n",
       "    }\n",
       "\n",
       "    .dataframe tbody tr th {\n",
       "        vertical-align: top;\n",
       "    }\n",
       "\n",
       "    .dataframe thead th {\n",
       "        text-align: right;\n",
       "    }\n",
       "</style>\n",
       "<table border=\"1\" class=\"dataframe\">\n",
       "  <thead>\n",
       "    <tr style=\"text-align: right;\">\n",
       "      <th></th>\n",
       "      <th>f1</th>\n",
       "      <th>f2</th>\n",
       "      <th>f3</th>\n",
       "      <th>f4</th>\n",
       "      <th>y</th>\n",
       "    </tr>\n",
       "  </thead>\n",
       "  <tbody>\n",
       "    <tr>\n",
       "      <th>0</th>\n",
       "      <td>3.62160</td>\n",
       "      <td>8.6661</td>\n",
       "      <td>-2.8073</td>\n",
       "      <td>-0.44699</td>\n",
       "      <td>0</td>\n",
       "    </tr>\n",
       "    <tr>\n",
       "      <th>1</th>\n",
       "      <td>4.54590</td>\n",
       "      <td>8.1674</td>\n",
       "      <td>-2.4586</td>\n",
       "      <td>-1.46210</td>\n",
       "      <td>0</td>\n",
       "    </tr>\n",
       "    <tr>\n",
       "      <th>2</th>\n",
       "      <td>3.86600</td>\n",
       "      <td>-2.6383</td>\n",
       "      <td>1.9242</td>\n",
       "      <td>0.10645</td>\n",
       "      <td>0</td>\n",
       "    </tr>\n",
       "    <tr>\n",
       "      <th>3</th>\n",
       "      <td>3.45660</td>\n",
       "      <td>9.5228</td>\n",
       "      <td>-4.0112</td>\n",
       "      <td>-3.59440</td>\n",
       "      <td>0</td>\n",
       "    </tr>\n",
       "    <tr>\n",
       "      <th>4</th>\n",
       "      <td>0.32924</td>\n",
       "      <td>-4.4552</td>\n",
       "      <td>4.5718</td>\n",
       "      <td>-0.98880</td>\n",
       "      <td>0</td>\n",
       "    </tr>\n",
       "  </tbody>\n",
       "</table>\n",
       "</div>"
      ],
      "text/plain": [
       "        f1      f2      f3       f4  y\n",
       "0  3.62160  8.6661 -2.8073 -0.44699  0\n",
       "1  4.54590  8.1674 -2.4586 -1.46210  0\n",
       "2  3.86600 -2.6383  1.9242  0.10645  0\n",
       "3  3.45660  9.5228 -4.0112 -3.59440  0\n",
       "4  0.32924 -4.4552  4.5718 -0.98880  0"
      ]
     },
     "execution_count": 133,
     "metadata": {
      "tags": []
     },
     "output_type": "execute_result"
    }
   ],
   "source": [
    "import pandas as pd\n",
    "import numpy as np\n",
    "\n",
    "loc = \"/content/drive/My Drive/parserr/d.txt\"\n",
    "\n",
    "banknote = pd.read_csv(loc,names=['f1','f2','f3','f4','y'])\n",
    "banknote.head()"
   ]
  },
  {
   "cell_type": "code",
   "execution_count": 134,
   "metadata": {
    "colab": {
     "base_uri": "https://localhost:8080/"
    },
    "id": "uXrCmoFJj-06",
    "outputId": "53339efa-c702-454e-96b3-64f0b42a07ef"
   },
   "outputs": [
    {
     "data": {
      "text/plain": [
       "[0.4337352570699707,\n",
       " 1.9223531206393603,\n",
       " 1.3976271172667651,\n",
       " -1.191656520043731]"
      ]
     },
     "execution_count": 134,
     "metadata": {
      "tags": []
     },
     "output_type": "execute_result"
    }
   ],
   "source": [
    "#Q1.feature_means(banknote)\n",
    "def feature_means(d):\n",
    "  dl = [i for i in d.iloc[:,:4].mean()]\n",
    "  return dl\n",
    "\n",
    "means = feature_means(banknote)\n",
    "means"
   ]
  },
  {
   "cell_type": "code",
   "execution_count": 135,
   "metadata": {
    "colab": {
     "base_uri": "https://localhost:8080/",
     "height": 173
    },
    "id": "hChyCdFvlA9T",
    "outputId": "82c06638-d9ba-4c0d-da64-0adbbc53ff10"
   },
   "outputs": [
    {
     "data": {
      "text/html": [
       "<div>\n",
       "<style scoped>\n",
       "    .dataframe tbody tr th:only-of-type {\n",
       "        vertical-align: middle;\n",
       "    }\n",
       "\n",
       "    .dataframe tbody tr th {\n",
       "        vertical-align: top;\n",
       "    }\n",
       "\n",
       "    .dataframe thead th {\n",
       "        text-align: right;\n",
       "    }\n",
       "</style>\n",
       "<table border=\"1\" class=\"dataframe\">\n",
       "  <thead>\n",
       "    <tr style=\"text-align: right;\">\n",
       "      <th></th>\n",
       "      <th>f1</th>\n",
       "      <th>f2</th>\n",
       "      <th>f3</th>\n",
       "      <th>f4</th>\n",
       "    </tr>\n",
       "  </thead>\n",
       "  <tbody>\n",
       "    <tr>\n",
       "      <th>f1</th>\n",
       "      <td>8.081299</td>\n",
       "      <td>4.405083</td>\n",
       "      <td>-4.666323</td>\n",
       "      <td>1.653338</td>\n",
       "    </tr>\n",
       "    <tr>\n",
       "      <th>f2</th>\n",
       "      <td>4.405083</td>\n",
       "      <td>34.445710</td>\n",
       "      <td>-19.905119</td>\n",
       "      <td>-6.490033</td>\n",
       "    </tr>\n",
       "    <tr>\n",
       "      <th>f3</th>\n",
       "      <td>-4.666323</td>\n",
       "      <td>-19.905119</td>\n",
       "      <td>18.576359</td>\n",
       "      <td>2.887241</td>\n",
       "    </tr>\n",
       "    <tr>\n",
       "      <th>f4</th>\n",
       "      <td>1.653338</td>\n",
       "      <td>-6.490033</td>\n",
       "      <td>2.887241</td>\n",
       "      <td>4.414256</td>\n",
       "    </tr>\n",
       "  </tbody>\n",
       "</table>\n",
       "</div>"
      ],
      "text/plain": [
       "          f1         f2         f3        f4\n",
       "f1  8.081299   4.405083  -4.666323  1.653338\n",
       "f2  4.405083  34.445710 -19.905119 -6.490033\n",
       "f3 -4.666323 -19.905119  18.576359  2.887241\n",
       "f4  1.653338  -6.490033   2.887241  4.414256"
      ]
     },
     "execution_count": 135,
     "metadata": {
      "tags": []
     },
     "output_type": "execute_result"
    }
   ],
   "source": [
    "#Q1.covariance_matrix\n",
    "def covariance_matrix(banknote):\n",
    "  cov =banknote.iloc[:,:4].cov()\n",
    "  return cov\n",
    "\n",
    "var = covariance_matrix(banknote)\n",
    "var"
   ]
  },
  {
   "cell_type": "code",
   "execution_count": 136,
   "metadata": {
    "colab": {
     "base_uri": "https://localhost:8080/"
    },
    "id": "ZF-jyhBQlrDY",
    "outputId": "dd818a78-1cc9-4b40-81f2-658a387bb3a1"
   },
   "outputs": [
    {
     "data": {
      "text/plain": [
       "[-1.868442562786883,\n",
       " -0.9935761245901634,\n",
       " 2.1482710088524617,\n",
       " -1.2466407459016389]"
      ]
     },
     "execution_count": 136,
     "metadata": {
      "tags": []
     },
     "output_type": "execute_result"
    }
   ],
   "source": [
    "#Q1.feature_means_class_1(banknote)\n",
    "def feature_means_class_1(banknote):\n",
    "  nd = banknote.loc[banknote['y']==1]\n",
    "  class1 = [i for i in nd.iloc[:,:4].mean()]\n",
    "  return class1\n",
    "\n",
    "feature_means_class_1(banknote)"
   ]
  },
  {
   "cell_type": "code",
   "execution_count": 137,
   "metadata": {
    "colab": {
     "base_uri": "https://localhost:8080/",
     "height": 173
    },
    "id": "nzf8LwjJvIml",
    "outputId": "816caf63-1ce7-4b21-fa1c-74f1f7ed2150"
   },
   "outputs": [
    {
     "data": {
      "text/html": [
       "<div>\n",
       "<style scoped>\n",
       "    .dataframe tbody tr th:only-of-type {\n",
       "        vertical-align: middle;\n",
       "    }\n",
       "\n",
       "    .dataframe tbody tr th {\n",
       "        vertical-align: top;\n",
       "    }\n",
       "\n",
       "    .dataframe thead th {\n",
       "        text-align: right;\n",
       "    }\n",
       "</style>\n",
       "<table border=\"1\" class=\"dataframe\">\n",
       "  <thead>\n",
       "    <tr style=\"text-align: right;\">\n",
       "      <th></th>\n",
       "      <th>f1</th>\n",
       "      <th>f2</th>\n",
       "      <th>f3</th>\n",
       "      <th>f4</th>\n",
       "    </tr>\n",
       "  </thead>\n",
       "  <tbody>\n",
       "    <tr>\n",
       "      <th>f1</th>\n",
       "      <td>3.538848</td>\n",
       "      <td>0.749234</td>\n",
       "      <td>-4.690537</td>\n",
       "      <td>1.262439</td>\n",
       "    </tr>\n",
       "    <tr>\n",
       "      <th>f2</th>\n",
       "      <td>0.749234</td>\n",
       "      <td>29.212768</td>\n",
       "      <td>-25.244698</td>\n",
       "      <td>-5.696759</td>\n",
       "    </tr>\n",
       "    <tr>\n",
       "      <th>f3</th>\n",
       "      <td>-4.690537</td>\n",
       "      <td>-25.244698</td>\n",
       "      <td>27.686654</td>\n",
       "      <td>3.007787</td>\n",
       "    </tr>\n",
       "    <tr>\n",
       "      <th>f4</th>\n",
       "      <td>1.262439</td>\n",
       "      <td>-5.696759</td>\n",
       "      <td>3.007787</td>\n",
       "      <td>4.288974</td>\n",
       "    </tr>\n",
       "  </tbody>\n",
       "</table>\n",
       "</div>"
      ],
      "text/plain": [
       "          f1         f2         f3        f4\n",
       "f1  3.538848   0.749234  -4.690537  1.262439\n",
       "f2  0.749234  29.212768 -25.244698 -5.696759\n",
       "f3 -4.690537 -25.244698  27.686654  3.007787\n",
       "f4  1.262439  -5.696759   3.007787  4.288974"
      ]
     },
     "execution_count": 137,
     "metadata": {
      "tags": []
     },
     "output_type": "execute_result"
    }
   ],
   "source": [
    "#Q1.covariance_matrix_class_1\n",
    "def covariance_matrix_class_1(banknote):\n",
    "  ndcov = banknote.loc[banknote['y']==1]\n",
    "  class1cov = ndcov.iloc[:,:4].cov()\n",
    "  return class1cov\n",
    "\n",
    "covVar =covariance_matrix_class_1(banknote)\n",
    "covVar"
   ]
  },
  {
   "cell_type": "code",
   "execution_count": 138,
   "metadata": {
    "id": "bKlwUiMrwotl"
   },
   "outputs": [],
   "source": [
    "from sklearn.neighbors import KernelDensity\n",
    "from sklearn.metrics import mean_squared_error\n",
    "\n",
    "#Question. Implement Parzen with hard window parameter h.\n",
    "class HardParzen:\n",
    "  def __init__(self,h):\n",
    "    self.h = h\n",
    "    self.mod = KernelDensity(kernel='linear', metric='euclidean',bandwidth=self.h)\n",
    "    self.pred = []\n",
    "\n",
    "  def train(self,x,y):\n",
    "    print('training...')\n",
    "    self.mod.fit(x,y)\n",
    "\n",
    "  def compute_predictions(self,xtest):\n",
    "    yh = self.mod.score_samples(xtest)\n",
    "    for i in yh:\n",
    "      if i < -10:\n",
    "        self.pred.append(0)\n",
    "      else:\n",
    "        self.pred.append(1)\n",
    "    \n",
    "    \n",
    "    return self.pred\n",
    "\n",
    "\n",
    "    \n",
    "#h = HardParzen(2)\n",
    "#h.train(tx,ty)\n",
    "#h.compute_predictions(vx)"
   ]
  },
  {
   "cell_type": "code",
   "execution_count": 139,
   "metadata": {
    "id": "inZJ2axujMB2"
   },
   "outputs": [],
   "source": [
    "#Question. Implement Parzen with a soft window.\n",
    "class SoftParzen:\n",
    "  def __init__(self,h):\n",
    "    self.h = h\n",
    "    self.mod = KernelDensity(kernel='gaussian', metric='euclidean',bandwidth=self.h)\n",
    "\n",
    "  def train(self,x,y):\n",
    "    print('training...')\n",
    "    self.mod.fit(x,y)\n",
    "\n",
    "  def compute_predictions(self,xtest):\n",
    "    yh = self.mod.score_samples(xtest)\n",
    "    op =[]\n",
    "    for i in yh:\n",
    "      if i < -3:\n",
    "        op.append(0)\n",
    "      else:\n",
    "        op.append(1)\n",
    "    return op\n"
   ]
  },
  {
   "cell_type": "code",
   "execution_count": 140,
   "metadata": {
    "colab": {
     "base_uri": "https://localhost:8080/"
    },
    "id": "UfULlvzgZOrn",
    "outputId": "693bdfb8-bc4a-41e5-a75f-9c00989f7b08"
   },
   "outputs": [
    {
     "name": "stdout",
     "output_type": "stream",
     "text": [
      "train count : 824\n",
      "val count : 274\n",
      "test count : 274\n",
      "trainx  (824, 4)\n",
      "trainy  (824, 1)\n",
      "valx  (274, 4)\n",
      "valy  (274, 1)\n",
      "test  (274, 5)\n"
     ]
    }
   ],
   "source": [
    "#Question. Implement a function split_dataset that splits the banknote dataset\n",
    "def split_dataset(da):\n",
    "  count = 0\n",
    "  train = []\n",
    "  val = []\n",
    "  test = []\n",
    "  for i,j in enumerate(da):\n",
    "    if i%5 == 0 or i%5 == 1 or i%5 ==2 :\n",
    "      train.append(j)\n",
    "      count+=1\n",
    "\n",
    "  print('train count :', count)\n",
    "  \n",
    "  count=0\n",
    "  for i,j in enumerate(da):\n",
    "    if i%5 == 3:\n",
    "      val.append(j)\n",
    "      count+=1\n",
    "\n",
    "  print('val count :',count)\n",
    "\n",
    "  count=0\n",
    "  for i,j in enumerate(da):\n",
    "    if i%5 == 4:\n",
    "      test.append(j)\n",
    "      count+=1 \n",
    "  \n",
    "  print('test count :',count)\n",
    "\n",
    "  trainx = np.array(train)[:,:4]\n",
    "  trainy = np.array(train)[:,4:]\n",
    "  valx = np.array(val)[:,:4]\n",
    "  valy = np.array(val)[:,4:]\n",
    "\n",
    "  print('trainx ', trainx.shape)\n",
    "  print('trainy ', trainy.shape)\n",
    "  print('valx ', valx.shape)\n",
    "  print('valy ', valy.shape)\n",
    "  print('test ', np.array(test).shape)\n",
    "  return trainx,trainy,valx,valy,test\n",
    "\n",
    "\n",
    "\n",
    "bnk = np.genfromtxt( loc ,delimiter = ',')\n",
    "\n",
    "tx,ty,vx,vy,test = split_dataset(bnk)"
   ]
  },
  {
   "cell_type": "code",
   "execution_count": 141,
   "metadata": {
    "id": "HfU586sKdCDl"
   },
   "outputs": [],
   "source": [
    "#Question. Implement two functions ErrorRate.hard_parzen and ErrorRate.soft_parzen\n",
    "class ErrorRate:\n",
    "  def __init__(self,x_train,y_train,x_val,y_val):\n",
    "    self.x_train = x_train\n",
    "    self.y_train = y_train\n",
    "    self.x_val = x_val\n",
    "    self.y_val = y_val\n",
    "\n",
    "\n",
    "  def soft_parzen(self,h):\n",
    "    sp = SoftParzen(h)\n",
    "    sp.train(self.x_train,self.y_train)\n",
    "    pred = sp.compute_predictions(self.x_val)\n",
    "    err =  mean_squared_error(pred,self.y_val)\n",
    "    return err\n",
    "\n",
    "  def hard_parzen(self,h):\n",
    "    hp = HardParzen(h)\n",
    "    hp.train(self.x_train,self.y_train)\n",
    "    pred = hp.compute_predictions(self.x_val)\n",
    "    err =  mean_squared_error(pred,self.y_val)\n",
    "    return err\n",
    "    \n"
   ]
  },
  {
   "cell_type": "code",
   "execution_count": 142,
   "metadata": {
    "id": "uPxOROCbZO-I"
   },
   "outputs": [],
   "source": [
    "# HardParzen  h ∈ {0.01, 0.1, 0.2, 0.3, 0.4, 0.5, 1.0, 3.0, 10.0, 20.0}\n",
    "# SoftParzen  h ∈ {0.01, 0.1, 0.2, 0.3, 0.4, 0.5, 1.0, 3.0, 10.0, 20.0}\n",
    "hList = [ 0.01, 0.1, 0.2, 0.3, 0.4, 0.5, 1.0, 3.0, 10.0, 20.0]\n",
    "\n",
    "import matplotlib.pyplot as plt\n",
    "def main(tx,ty,vx,vy):\n",
    "  parzan =ErrorRate(tx,ty,vx,vy)\n",
    "\n",
    "  HardParzen_Error = []\n",
    "  SoftParzen_Error = []\n",
    "\n",
    "  for h in hList:\n",
    "    error = parzan.hard_parzen(h)\n",
    "    HardParzen_Error.append(error)\n",
    "\n",
    "  for i in hList:\n",
    "    error = parzan.soft_parzen(i)\n",
    "    SoftParzen_Error.append(error)\n",
    "\n",
    "  ax = plt.subplot(1,1,1)\n",
    "  p1, = ax.plot(hList,HardParzen_Error, label=\"HardParzen’s classification error\")\n",
    "  p2, = ax.plot(hList,SoftParzen_Error,  label=\"RBF Parzen’s classification error\")\n",
    "  plt.scatter(hList,HardParzen_Error)\n",
    "  plt.scatter(hList,SoftParzen_Error)\n",
    "  #plt.xlim(0,20)\n",
    "  plt.title('error rates hard vs soft')\n",
    "  plt.ylabel('error rates')\n",
    "  plt.xlabel('argv')\n",
    "  ax.legend()\n",
    "  plt.show()\n"
   ]
  },
  {
   "cell_type": "code",
   "execution_count": 143,
   "metadata": {
    "colab": {
     "base_uri": "https://localhost:8080/",
     "height": 655
    },
    "id": "GPt-yIPJJBKi",
    "outputId": "023b25f6-1d8b-43bf-fa70-1f831d28e0b9"
   },
   "outputs": [
    {
     "name": "stdout",
     "output_type": "stream",
     "text": [
      "training...\n",
      "training...\n",
      "training...\n",
      "training...\n",
      "training...\n",
      "training...\n",
      "training...\n",
      "training...\n",
      "training...\n",
      "training...\n",
      "training...\n",
      "training...\n",
      "training...\n",
      "training...\n",
      "training...\n",
      "training...\n",
      "training...\n",
      "training...\n",
      "training...\n",
      "training...\n"
     ]
    },
    {
     "data": {
      "image/png": "[encoded data removed]",
      "text/plain": [
       "<Figure size 432x288 with 1 Axes>"
      ]
     },
     "metadata": {
      "needs_background": "light",
      "tags": []
     },
     "output_type": "display_data"
    }
   ],
   "source": [
    "main(tx,ty,vx,vy)"
   ]
  },
  {
   "cell_type": "code",
   "execution_count": 144,
   "metadata": {
    "colab": {
     "base_uri": "https://localhost:8080/"
    },
    "id": "TnNW96y-XCdQ",
    "outputId": "b3ffbde4-79cc-4a7a-ea24-2859afb295db"
   },
   "outputs": [
    {
     "name": "stdout",
     "output_type": "stream",
     "text": [
      "training...\n",
      "training...\n"
     ]
    },
    {
     "data": {
      "text/plain": [
       "[0.4562043795620438, 0.4708029197080292]"
      ]
     },
     "execution_count": 144,
     "metadata": {
      "tags": []
     },
     "output_type": "execute_result"
    }
   ],
   "source": [
    "#Question. Implement a function get_test_errors \n",
    "x_test,y_test = np.array(test)[:,:4],np.array(test)[:,4:]\n",
    "\n",
    "#Optimal h is 0.1 for both hard and soft parzan from figure above.\n",
    "def get_test_errors(xtrain,ytrain,xtest,ytest,h=0.1):\n",
    "  parzan =ErrorRate(xtrain,ytrain,xtest,ytest)\n",
    "  err_soft = parzan.soft_parzen(h)\n",
    "  err_hard = parzan.hard_parzen(h)\n",
    "  \n",
    "  output = [err_soft,err_hard]\n",
    "  return output\n",
    "\n",
    "\n",
    "get_test_errors(tx,ty,x_test,y_test)"
   ]
  },
  {
   "cell_type": "code",
   "execution_count": 145,
   "metadata": {
    "colab": {
     "base_uri": "https://localhost:8080/"
    },
    "id": "iMWtPCmO7ahL",
    "outputId": "c1313bf5-ddb8-46d0-9f59-37fef0bb60ac"
   },
   "outputs": [
    {
     "data": {
      "text/plain": [
       "((500, 4), (500, 1))"
      ]
     },
     "execution_count": 145,
     "metadata": {
      "tags": []
     },
     "output_type": "execute_result"
    }
   ],
   "source": [
    "#Question. Similar to Question 5, compute the validation errors of Hard Parzen classifiers\n",
    "#trained on 500 random projections of the training set\n",
    "from sklearn import random_projection\n",
    "\n",
    "np.random.shuffle(bnk)\n",
    "ran = bnk[:500,:4]\n",
    "ran_target = bnk[:500,4:]\n",
    "ran.shape,ran_target.shape\n"
   ]
  },
  {
   "cell_type": "code",
   "execution_count": 151,
   "metadata": {
    "colab": {
     "base_uri": "https://localhost:8080/",
     "height": 711
    },
    "id": "W0qMIDG6A2Y0",
    "outputId": "22fb5731-db1b-49cb-f658-a7aeeb845a0f"
   },
   "outputs": [
    {
     "name": "stderr",
     "output_type": "stream",
     "text": [
      "/usr/local/lib/python3.6/dist-packages/sklearn/random_projection.py:390: DataDimensionalityWarning: The number of components is higher than the number of features: n_features < n_components (4 < 8).The dimensionality of the problem will not be reduced.\n",
      "  DataDimensionalityWarning)\n"
     ]
    },
    {
     "name": "stdout",
     "output_type": "stream",
     "text": [
      "training...\n",
      "training...\n",
      "training...\n",
      "training...\n",
      "training...\n",
      "training...\n",
      "training...\n",
      "training...\n",
      "training...\n",
      "training...\n",
      "training...\n",
      "training...\n",
      "training...\n",
      "training...\n",
      "training...\n",
      "training...\n",
      "training...\n",
      "training...\n",
      "training...\n",
      "training...\n"
     ]
    },
    {
     "data": {
      "image/png": "[encoded data removed]",
      "text/plain": [
       "<Figure size 432x288 with 1 Axes>"
      ]
     },
     "metadata": {
      "needs_background": "light",
      "tags": []
     },
     "output_type": "display_data"
    }
   ],
   "source": [
    "t = random_projection.GaussianRandomProjection(n_components=8)\n",
    "features = t.fit_transform(ran)\n",
    "\n",
    "tx =features[:400]\n",
    "vx =features[400:]\n",
    "ty =ran_target[:400]\n",
    "vy =ran_target[400:]\n",
    "\n",
    "features.shape,tx.shape,vx.shape,ty.shape,vy.shape\n",
    "\n",
    "main(tx,ty,vx,vy)"
   ]
  },
  {
   "cell_type": "markdown",
   "metadata": {
    "id": "YouvZZM2K488"
   },
   "source": [
    "Disscussion "
   ]
  },
  {
   "cell_type": "markdown",
   "metadata": {
    "id": "K1Ej2MABOZe1"
   },
   "source": [
    "The complexity of both hard and soft is O(m **3 ). where m is no. of features.  Also there is not much difference in complexity if h is changed as the time taken is mostly dependent on the sample size."
   ]
  },
  {
   "cell_type": "markdown",
   "metadata": {
    "id": "M3awRx87Ogov"
   },
   "source": [
    "In the two graphs  the only difference we see is that the optimal value of h shifts from near zero to 4."
   ]
  },
  {
   "cell_type": "code",
   "execution_count": null,
   "metadata": {
    "id": "68J2WRMBOb67"
   },
   "outputs": [],
   "source": []
  }
 ],
 "metadata": {
  "colab": {
   "collapsed_sections": [],
   "name": "banknoteComplete.ipynb",
   "provenance": []
  },
  "kernelspec": {
   "display_name": "Python 3",
   "language": "python",
   "name": "python3"
  },
  "language_info": {
   "codemirror_mode": {
    "name": "ipython",
    "version": 3
   },
   "file_extension": ".py",
   "mimetype": "text/x-python",
   "name": "python",
   "nbconvert_exporter": "python",
   "pygments_lexer": "ipython3",
   "version": "3.8.8"
  }
 },
 "nbformat": 4,
 "nbformat_minor": 1
}
