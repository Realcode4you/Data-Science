{
 "cells": [
  {
   "cell_type": "markdown",
   "metadata": {},
   "source": [
    "## CSIS 3290 – 001 – Lab 01\n",
    "### Name- Arpit Mohanani\n",
    "### Student ID- 300337709\n"
   ]
  },
  {
   "cell_type": "markdown",
   "metadata": {},
   "source": [
    "### Load the python library"
   ]
  },
  {
   "cell_type": "code",
   "execution_count": 1,
   "metadata": {},
   "outputs": [],
   "source": [
    "import numpy as np\n",
    "import pandas as pd\n",
    "import matplotlib.pyplot as plt\n",
    "import seaborn as seab"
   ]
  },
  {
   "cell_type": "markdown",
   "metadata": {},
   "source": [
    "### Read the data"
   ]
  },
  {
   "cell_type": "code",
   "execution_count": 2,
   "metadata": {},
   "outputs": [],
   "source": [
    "df = pd.read_csv('carsDataSample1K.csv') #reads the csv file"
   ]
  },
  {
   "cell_type": "code",
   "execution_count": 3,
   "metadata": {},
   "outputs": [
    {
     "data": {
      "text/html": [
       "<div>\n",
       "<style scoped>\n",
       "    .dataframe tbody tr th:only-of-type {\n",
       "        vertical-align: middle;\n",
       "    }\n",
       "\n",
       "    .dataframe tbody tr th {\n",
       "        vertical-align: top;\n",
       "    }\n",
       "\n",
       "    .dataframe thead th {\n",
       "        text-align: right;\n",
       "    }\n",
       "</style>\n",
       "<table border=\"1\" class=\"dataframe\">\n",
       "  <thead>\n",
       "    <tr style=\"text-align: right;\">\n",
       "      <th></th>\n",
       "      <th>price</th>\n",
       "      <th>price2</th>\n",
       "      <th>miles</th>\n",
       "      <th>fuel type</th>\n",
       "      <th>exterior color</th>\n",
       "      <th>interior color</th>\n",
       "      <th>drivetrain</th>\n",
       "      <th>transmission</th>\n",
       "      <th>engine</th>\n",
       "      <th>VIN</th>\n",
       "      <th>name</th>\n",
       "      <th>seller_address</th>\n",
       "      <th>id</th>\n",
       "      <th>model_name</th>\n",
       "    </tr>\n",
       "  </thead>\n",
       "  <tbody>\n",
       "    <tr>\n",
       "      <th>0</th>\n",
       "      <td>$27,116</td>\n",
       "      <td>NaN</td>\n",
       "      <td>186 miles</td>\n",
       "      <td>Gasoline</td>\n",
       "      <td>Shadow Black</td>\n",
       "      <td>NaN</td>\n",
       "      <td>RWD</td>\n",
       "      <td>10-Speed Automatic</td>\n",
       "      <td>2.3L I4 16V GDI DOHC Turbo</td>\n",
       "      <td>1FATP8UH5J5184692</td>\n",
       "      <td>New 2018 Ford Mustang EcoBoost</td>\n",
       "      <td>12836 Hwy 21, De Soto, MO 63020</td>\n",
       "      <td>745411027.0</td>\n",
       "      <td>Mustang</td>\n",
       "    </tr>\n",
       "    <tr>\n",
       "      <th>1</th>\n",
       "      <td>$15,999</td>\n",
       "      <td>NaN</td>\n",
       "      <td>48,054 miles</td>\n",
       "      <td>Gasoline</td>\n",
       "      <td>Ruby Red Metallic Tinted Clearcoat</td>\n",
       "      <td>Charcoal Black</td>\n",
       "      <td>RWD</td>\n",
       "      <td>6-Speed Manual</td>\n",
       "      <td>3.7L V6 24V MPFI DOHC</td>\n",
       "      <td>1ZVBP8AM5E5271728</td>\n",
       "      <td>Certified 2014 Ford Mustang V6 Premium</td>\n",
       "      <td>2500 Wildcat Dr, Lincoln, NE 68521</td>\n",
       "      <td>756325094.0</td>\n",
       "      <td>Mustang</td>\n",
       "    </tr>\n",
       "    <tr>\n",
       "      <th>2</th>\n",
       "      <td>$31,795</td>\n",
       "      <td>NaN</td>\n",
       "      <td>29,050 miles</td>\n",
       "      <td>Gasoline</td>\n",
       "      <td>Glacier White</td>\n",
       "      <td>Gray</td>\n",
       "      <td>RWD</td>\n",
       "      <td>5-Speed Automatic</td>\n",
       "      <td>V6</td>\n",
       "      <td>1N6BF0LY1HN807941</td>\n",
       "      <td>New 2017 Nissan SV</td>\n",
       "      <td>1025 SE Oldham Pkwy, Lee's Summit, MO 64081</td>\n",
       "      <td>722483803.0</td>\n",
       "      <td>Model Unknown</td>\n",
       "    </tr>\n",
       "    <tr>\n",
       "      <th>3</th>\n",
       "      <td>$13,998</td>\n",
       "      <td>NaN</td>\n",
       "      <td>7 miles</td>\n",
       "      <td>Gasoline</td>\n",
       "      <td>Ingot Silver</td>\n",
       "      <td>Charcoal Black</td>\n",
       "      <td>FWD</td>\n",
       "      <td>6-Speed Automatic with Auto-Shift</td>\n",
       "      <td>1.6L I4 16V MPFI DOHC</td>\n",
       "      <td>3FADP4BJ6JM146711</td>\n",
       "      <td>New 2018 Ford Fiesta SE</td>\n",
       "      <td>807 Southwest Blvd, Jefferson City, MO 65109</td>\n",
       "      <td>751728118.0</td>\n",
       "      <td>Fiesta</td>\n",
       "    </tr>\n",
       "    <tr>\n",
       "      <th>4</th>\n",
       "      <td>$31,705</td>\n",
       "      <td>NaN</td>\n",
       "      <td>NaN</td>\n",
       "      <td>Gasoline</td>\n",
       "      <td>Shadow Black</td>\n",
       "      <td>Ebony</td>\n",
       "      <td>RWD</td>\n",
       "      <td>10-Speed Automatic</td>\n",
       "      <td>2.3L I4 16V GDI DOHC Turbo</td>\n",
       "      <td>1FA6P8TH0K5134654</td>\n",
       "      <td>New 2019 Ford Mustang</td>\n",
       "      <td>255 John Deere Dr, Moscow Mills, MO 63362</td>\n",
       "      <td>751763029.0</td>\n",
       "      <td>Mustang</td>\n",
       "    </tr>\n",
       "  </tbody>\n",
       "</table>\n",
       "</div>"
      ],
      "text/plain": [
       "     price price2         miles  fuel type  \\\n",
       "0  $27,116    NaN     186 miles   Gasoline   \n",
       "1  $15,999    NaN  48,054 miles   Gasoline   \n",
       "2  $31,795    NaN  29,050 miles   Gasoline   \n",
       "3  $13,998    NaN       7 miles   Gasoline   \n",
       "4  $31,705    NaN           NaN   Gasoline   \n",
       "\n",
       "                        exterior color   interior color drivetrain  \\\n",
       "0                         Shadow Black              NaN        RWD   \n",
       "1   Ruby Red Metallic Tinted Clearcoat   Charcoal Black        RWD   \n",
       "2                        Glacier White             Gray        RWD   \n",
       "3                         Ingot Silver   Charcoal Black        FWD   \n",
       "4                         Shadow Black            Ebony        RWD   \n",
       "\n",
       "                         transmission                       engine  \\\n",
       "0                  10-Speed Automatic   2.3L I4 16V GDI DOHC Turbo   \n",
       "1                      6-Speed Manual        3.7L V6 24V MPFI DOHC   \n",
       "2                   5-Speed Automatic                           V6   \n",
       "3   6-Speed Automatic with Auto-Shift        1.6L I4 16V MPFI DOHC   \n",
       "4                  10-Speed Automatic   2.3L I4 16V GDI DOHC Turbo   \n",
       "\n",
       "                  VIN                                    name  \\\n",
       "0   1FATP8UH5J5184692          New 2018 Ford Mustang EcoBoost   \n",
       "1   1ZVBP8AM5E5271728  Certified 2014 Ford Mustang V6 Premium   \n",
       "2   1N6BF0LY1HN807941                      New 2017 Nissan SV   \n",
       "3   3FADP4BJ6JM146711                 New 2018 Ford Fiesta SE   \n",
       "4   1FA6P8TH0K5134654                   New 2019 Ford Mustang   \n",
       "\n",
       "                                 seller_address           id     model_name  \n",
       "0               12836 Hwy 21, De Soto, MO 63020  745411027.0        Mustang  \n",
       "1            2500 Wildcat Dr, Lincoln, NE 68521  756325094.0        Mustang  \n",
       "2   1025 SE Oldham Pkwy, Lee's Summit, MO 64081  722483803.0  Model Unknown  \n",
       "3  807 Southwest Blvd, Jefferson City, MO 65109  751728118.0         Fiesta  \n",
       "4     255 John Deere Dr, Moscow Mills, MO 63362  751763029.0        Mustang  "
      ]
     },
     "execution_count": 3,
     "metadata": {},
     "output_type": "execute_result"
    }
   ],
   "source": [
    "df.head()"
   ]
  },
  {
   "cell_type": "code",
   "execution_count": 4,
   "metadata": {},
   "outputs": [
    {
     "data": {
      "text/plain": [
       "price             121\n",
       "price2            590\n",
       "miles             220\n",
       "fuel type          39\n",
       "exterior color     51\n",
       "interior color    158\n",
       "drivetrain         99\n",
       "transmission       70\n",
       "engine             83\n",
       "VIN                41\n",
       "name               41\n",
       "seller_address     43\n",
       "id                 38\n",
       "model_name         38\n",
       "dtype: int64"
      ]
     },
     "execution_count": 4,
     "metadata": {},
     "output_type": "execute_result"
    }
   ],
   "source": [
    "df.isnull().sum() #displays number of nulls values in each column"
   ]
  },
  {
   "cell_type": "markdown",
   "metadata": {},
   "source": [
    "### Dropping and Filling data"
   ]
  },
  {
   "cell_type": "code",
   "execution_count": 5,
   "metadata": {},
   "outputs": [
    {
     "data": {
      "text/plain": [
       "price              90\n",
       "price2            559\n",
       "miles             189\n",
       "fuel type           8\n",
       "exterior color     20\n",
       "interior color    127\n",
       "drivetrain         68\n",
       "transmission       39\n",
       "engine             52\n",
       "VIN                10\n",
       "name               10\n",
       "seller_address     12\n",
       "id                  7\n",
       "model_name          7\n",
       "dtype: int64"
      ]
     },
     "execution_count": 5,
     "metadata": {},
     "output_type": "execute_result"
    }
   ],
   "source": [
    "df2 = df #keeping a copy of original dataset\n",
    "df.dropna(how='all',inplace=True) #drops all rows in which all values are Null\n",
    "df.isnull().sum()"
   ]
  },
  {
   "cell_type": "code",
   "execution_count": 6,
   "metadata": {},
   "outputs": [],
   "source": [
    "df.price.fillna(df.price2, inplace=True)"
   ]
  },
  {
   "cell_type": "code",
   "execution_count": 7,
   "metadata": {},
   "outputs": [
    {
     "data": {
      "text/plain": [
       "price              19\n",
       "price2            559\n",
       "miles             189\n",
       "fuel type           8\n",
       "exterior color     20\n",
       "interior color    127\n",
       "drivetrain         68\n",
       "transmission       39\n",
       "engine             52\n",
       "VIN                10\n",
       "name               10\n",
       "seller_address     12\n",
       "id                  7\n",
       "model_name          7\n",
       "dtype: int64"
      ]
     },
     "execution_count": 7,
     "metadata": {},
     "output_type": "execute_result"
    }
   ],
   "source": [
    "df.isnull().sum()"
   ]
  },
  {
   "cell_type": "code",
   "execution_count": 8,
   "metadata": {},
   "outputs": [],
   "source": [
    "df.drop(\"price2\",axis=\"columns\",inplace=True)"
   ]
  },
  {
   "cell_type": "code",
   "execution_count": 9,
   "metadata": {},
   "outputs": [],
   "source": [
    "df.dropna(axis=0,how='any',inplace=True) #drops all rows having any null value"
   ]
  },
  {
   "cell_type": "code",
   "execution_count": 10,
   "metadata": {},
   "outputs": [],
   "source": [
    "df.drop(['VIN','name','seller_address','id'],axis=\"columns\",inplace=True)"
   ]
  },
  {
   "cell_type": "code",
   "execution_count": 11,
   "metadata": {},
   "outputs": [
    {
     "data": {
      "text/html": [
       "<div>\n",
       "<style scoped>\n",
       "    .dataframe tbody tr th:only-of-type {\n",
       "        vertical-align: middle;\n",
       "    }\n",
       "\n",
       "    .dataframe tbody tr th {\n",
       "        vertical-align: top;\n",
       "    }\n",
       "\n",
       "    .dataframe thead th {\n",
       "        text-align: right;\n",
       "    }\n",
       "</style>\n",
       "<table border=\"1\" class=\"dataframe\">\n",
       "  <thead>\n",
       "    <tr style=\"text-align: right;\">\n",
       "      <th></th>\n",
       "      <th>price</th>\n",
       "      <th>miles</th>\n",
       "      <th>fuel type</th>\n",
       "      <th>exterior color</th>\n",
       "      <th>interior color</th>\n",
       "      <th>drivetrain</th>\n",
       "      <th>transmission</th>\n",
       "      <th>engine</th>\n",
       "      <th>model_name</th>\n",
       "    </tr>\n",
       "  </thead>\n",
       "  <tbody>\n",
       "    <tr>\n",
       "      <th>1</th>\n",
       "      <td>$15,999</td>\n",
       "      <td>48,054 miles</td>\n",
       "      <td>Gasoline</td>\n",
       "      <td>Ruby Red Metallic Tinted Clearcoat</td>\n",
       "      <td>Charcoal Black</td>\n",
       "      <td>RWD</td>\n",
       "      <td>6-Speed Manual</td>\n",
       "      <td>3.7L V6 24V MPFI DOHC</td>\n",
       "      <td>Mustang</td>\n",
       "    </tr>\n",
       "    <tr>\n",
       "      <th>2</th>\n",
       "      <td>$31,795</td>\n",
       "      <td>29,050 miles</td>\n",
       "      <td>Gasoline</td>\n",
       "      <td>Glacier White</td>\n",
       "      <td>Gray</td>\n",
       "      <td>RWD</td>\n",
       "      <td>5-Speed Automatic</td>\n",
       "      <td>V6</td>\n",
       "      <td>Model Unknown</td>\n",
       "    </tr>\n",
       "    <tr>\n",
       "      <th>3</th>\n",
       "      <td>$13,998</td>\n",
       "      <td>7 miles</td>\n",
       "      <td>Gasoline</td>\n",
       "      <td>Ingot Silver</td>\n",
       "      <td>Charcoal Black</td>\n",
       "      <td>FWD</td>\n",
       "      <td>6-Speed Automatic with Auto-Shift</td>\n",
       "      <td>1.6L I4 16V MPFI DOHC</td>\n",
       "      <td>Fiesta</td>\n",
       "    </tr>\n",
       "    <tr>\n",
       "      <th>5</th>\n",
       "      <td>$19,237</td>\n",
       "      <td>10 miles</td>\n",
       "      <td>Gasoline</td>\n",
       "      <td>Oxford White</td>\n",
       "      <td>Ebony</td>\n",
       "      <td>FWD</td>\n",
       "      <td>6-Speed Automatic</td>\n",
       "      <td>1.5L I4 16V GDI DOHC Turbo</td>\n",
       "      <td>Fusion</td>\n",
       "    </tr>\n",
       "    <tr>\n",
       "      <th>6</th>\n",
       "      <td>$38,868</td>\n",
       "      <td>3 miles</td>\n",
       "      <td>Gasoline</td>\n",
       "      <td>Oxford White</td>\n",
       "      <td>Charcoal</td>\n",
       "      <td>Rear Wheel Drive</td>\n",
       "      <td>Automatic</td>\n",
       "      <td>3.5L V6 Turbocharged</td>\n",
       "      <td>Transit-350</td>\n",
       "    </tr>\n",
       "  </tbody>\n",
       "</table>\n",
       "</div>"
      ],
      "text/plain": [
       "     price         miles  fuel type                       exterior color  \\\n",
       "1  $15,999  48,054 miles   Gasoline   Ruby Red Metallic Tinted Clearcoat   \n",
       "2  $31,795  29,050 miles   Gasoline                        Glacier White   \n",
       "3  $13,998       7 miles   Gasoline                         Ingot Silver   \n",
       "5  $19,237      10 miles   Gasoline                         Oxford White   \n",
       "6  $38,868       3 miles   Gasoline                         Oxford White   \n",
       "\n",
       "    interior color         drivetrain                        transmission  \\\n",
       "1   Charcoal Black                RWD                      6-Speed Manual   \n",
       "2             Gray                RWD                   5-Speed Automatic   \n",
       "3   Charcoal Black                FWD   6-Speed Automatic with Auto-Shift   \n",
       "5            Ebony                FWD                   6-Speed Automatic   \n",
       "6         Charcoal   Rear Wheel Drive                           Automatic   \n",
       "\n",
       "                        engine     model_name  \n",
       "1        3.7L V6 24V MPFI DOHC        Mustang  \n",
       "2                           V6  Model Unknown  \n",
       "3        1.6L I4 16V MPFI DOHC         Fiesta  \n",
       "5   1.5L I4 16V GDI DOHC Turbo         Fusion  \n",
       "6         3.5L V6 Turbocharged    Transit-350  "
      ]
     },
     "execution_count": 11,
     "metadata": {},
     "output_type": "execute_result"
    }
   ],
   "source": [
    "df.head()"
   ]
  },
  {
   "cell_type": "markdown",
   "metadata": {},
   "source": [
    "### Changing Columns Label"
   ]
  },
  {
   "cell_type": "code",
   "execution_count": 12,
   "metadata": {},
   "outputs": [],
   "source": [
    "df.rename(columns={'fuel type': 'fuel_type'}, inplace=True)"
   ]
  },
  {
   "cell_type": "code",
   "execution_count": 13,
   "metadata": {},
   "outputs": [],
   "source": [
    "df.rename(columns={'exterior color': 'exterior_color'}, inplace=True)"
   ]
  },
  {
   "cell_type": "code",
   "execution_count": 14,
   "metadata": {},
   "outputs": [],
   "source": [
    "df.rename(columns={'interior color': 'interior_color'}, inplace=True)"
   ]
  },
  {
   "cell_type": "code",
   "execution_count": 15,
   "metadata": {},
   "outputs": [
    {
     "data": {
      "text/html": [
       "<div>\n",
       "<style scoped>\n",
       "    .dataframe tbody tr th:only-of-type {\n",
       "        vertical-align: middle;\n",
       "    }\n",
       "\n",
       "    .dataframe tbody tr th {\n",
       "        vertical-align: top;\n",
       "    }\n",
       "\n",
       "    .dataframe thead th {\n",
       "        text-align: right;\n",
       "    }\n",
       "</style>\n",
       "<table border=\"1\" class=\"dataframe\">\n",
       "  <thead>\n",
       "    <tr style=\"text-align: right;\">\n",
       "      <th></th>\n",
       "      <th>price</th>\n",
       "      <th>miles</th>\n",
       "      <th>fuel_type</th>\n",
       "      <th>exterior_color</th>\n",
       "      <th>interior_color</th>\n",
       "      <th>drivetrain</th>\n",
       "      <th>transmission</th>\n",
       "      <th>engine</th>\n",
       "      <th>model_name</th>\n",
       "    </tr>\n",
       "  </thead>\n",
       "  <tbody>\n",
       "    <tr>\n",
       "      <th>1</th>\n",
       "      <td>$15,999</td>\n",
       "      <td>48,054 miles</td>\n",
       "      <td>Gasoline</td>\n",
       "      <td>Ruby Red Metallic Tinted Clearcoat</td>\n",
       "      <td>Charcoal Black</td>\n",
       "      <td>RWD</td>\n",
       "      <td>6-Speed Manual</td>\n",
       "      <td>3.7L V6 24V MPFI DOHC</td>\n",
       "      <td>Mustang</td>\n",
       "    </tr>\n",
       "    <tr>\n",
       "      <th>2</th>\n",
       "      <td>$31,795</td>\n",
       "      <td>29,050 miles</td>\n",
       "      <td>Gasoline</td>\n",
       "      <td>Glacier White</td>\n",
       "      <td>Gray</td>\n",
       "      <td>RWD</td>\n",
       "      <td>5-Speed Automatic</td>\n",
       "      <td>V6</td>\n",
       "      <td>Model Unknown</td>\n",
       "    </tr>\n",
       "    <tr>\n",
       "      <th>3</th>\n",
       "      <td>$13,998</td>\n",
       "      <td>7 miles</td>\n",
       "      <td>Gasoline</td>\n",
       "      <td>Ingot Silver</td>\n",
       "      <td>Charcoal Black</td>\n",
       "      <td>FWD</td>\n",
       "      <td>6-Speed Automatic with Auto-Shift</td>\n",
       "      <td>1.6L I4 16V MPFI DOHC</td>\n",
       "      <td>Fiesta</td>\n",
       "    </tr>\n",
       "    <tr>\n",
       "      <th>5</th>\n",
       "      <td>$19,237</td>\n",
       "      <td>10 miles</td>\n",
       "      <td>Gasoline</td>\n",
       "      <td>Oxford White</td>\n",
       "      <td>Ebony</td>\n",
       "      <td>FWD</td>\n",
       "      <td>6-Speed Automatic</td>\n",
       "      <td>1.5L I4 16V GDI DOHC Turbo</td>\n",
       "      <td>Fusion</td>\n",
       "    </tr>\n",
       "    <tr>\n",
       "      <th>6</th>\n",
       "      <td>$38,868</td>\n",
       "      <td>3 miles</td>\n",
       "      <td>Gasoline</td>\n",
       "      <td>Oxford White</td>\n",
       "      <td>Charcoal</td>\n",
       "      <td>Rear Wheel Drive</td>\n",
       "      <td>Automatic</td>\n",
       "      <td>3.5L V6 Turbocharged</td>\n",
       "      <td>Transit-350</td>\n",
       "    </tr>\n",
       "  </tbody>\n",
       "</table>\n",
       "</div>"
      ],
      "text/plain": [
       "     price         miles  fuel_type                       exterior_color  \\\n",
       "1  $15,999  48,054 miles   Gasoline   Ruby Red Metallic Tinted Clearcoat   \n",
       "2  $31,795  29,050 miles   Gasoline                        Glacier White   \n",
       "3  $13,998       7 miles   Gasoline                         Ingot Silver   \n",
       "5  $19,237      10 miles   Gasoline                         Oxford White   \n",
       "6  $38,868       3 miles   Gasoline                         Oxford White   \n",
       "\n",
       "    interior_color         drivetrain                        transmission  \\\n",
       "1   Charcoal Black                RWD                      6-Speed Manual   \n",
       "2             Gray                RWD                   5-Speed Automatic   \n",
       "3   Charcoal Black                FWD   6-Speed Automatic with Auto-Shift   \n",
       "5            Ebony                FWD                   6-Speed Automatic   \n",
       "6         Charcoal   Rear Wheel Drive                           Automatic   \n",
       "\n",
       "                        engine     model_name  \n",
       "1        3.7L V6 24V MPFI DOHC        Mustang  \n",
       "2                           V6  Model Unknown  \n",
       "3        1.6L I4 16V MPFI DOHC         Fiesta  \n",
       "5   1.5L I4 16V GDI DOHC Turbo         Fusion  \n",
       "6         3.5L V6 Turbocharged    Transit-350  "
      ]
     },
     "execution_count": 15,
     "metadata": {},
     "output_type": "execute_result"
    }
   ],
   "source": [
    "df.head()"
   ]
  },
  {
   "cell_type": "markdown",
   "metadata": {},
   "source": [
    "### Reduce the number of unique values in the transmission and engine columns"
   ]
  },
  {
   "cell_type": "code",
   "execution_count": 16,
   "metadata": {},
   "outputs": [
    {
     "data": {
      "text/plain": [
       "array([' 6-Speed Manual', ' 5-Speed Automatic',\n",
       "       ' 6-Speed Automatic with Auto-Shift', ' 6-Speed Automatic',\n",
       "       ' Automatic', ' eCVT', ' 6-Speed Automatic with Overdrive',\n",
       "       ' 6-Speed Auto-Shift Manual w/OD', ' 8-Speed Automatic',\n",
       "       ' 10-Speed Automatic', ' Automatic 6-Speed',\n",
       "       ' 6-Speed Automatic w/OD', ' TorqShift 6-Speed Automatic',\n",
       "       ' 6-Speed Automatic with Select-Shift', ' 10-Speed',\n",
       "       ' 6-Speed Automatic with Powershift', ' Automatic CVT',\n",
       "       ' 6-Speed Automatic Electronic', ' Manual 6-Speed',\n",
       "       ' Shiftable Automatic', ' 4-Speed Automatic', ' 6-Speed A/T',\n",
       "       ' 10-Speed Automatic w/OD', ' 6-Speed Manual w/OD',\n",
       "       ' 5-Speed Manual with Overdrive', ' Automatic 4-Speed',\n",
       "       ' 6-Speed Shiftable Automatic', ' 6-Speed PowerShift Automatic',\n",
       "       ' AUTOMATIC', ' 6-SPD AUTO TRANS W/SLCTSHFT', ' Automatic 5-Speed',\n",
       "       ' 8-Speed Automatic w/OD', ' Auto', ' 6 Speed Automatic',\n",
       "       ' 5-Speed Manual', ' 6-Speed Automatic w/manual shift',\n",
       "       ' 5-Speed Automatic with Overdrive', ' Manual',\n",
       "       ' 9-Speed Automatic w/OD', ' Not Specified', ' 6-SPD SELECT SHIFT',\n",
       "       ' Automatic 10-Speed', ' 1-Speed CVT w/OD',\n",
       "       ' 5-Speed Automatic w/OD', ' 6-SPEED POWERSHIFT AUTO TRA',\n",
       "       ' Aisin e-CVT Powersplit', ' 4-Speed Electronic Automatic w/OD,',\n",
       "       ' auto', ' 1-Speed Continuously Variable Ratio',\n",
       "       ' 6-Speed Automatic with Powe', ' Dual Shift Gearbox',\n",
       "       ' E-CVT Automatic'], dtype=object)"
      ]
     },
     "execution_count": 16,
     "metadata": {},
     "output_type": "execute_result"
    }
   ],
   "source": [
    "df['transmission'].unique() #displays allunique values in Transmission column"
   ]
  },
  {
   "cell_type": "code",
   "execution_count": 17,
   "metadata": {},
   "outputs": [],
   "source": [
    "df.loc[df['transmission'].str.contains('(?i)CVT'), 'transmission'] = 'CVT'"
   ]
  },
  {
   "cell_type": "code",
   "execution_count": 18,
   "metadata": {},
   "outputs": [],
   "source": [
    "df.loc[df['transmission'].str.contains('(?i)Auto'), 'transmission'] = 'Auto'"
   ]
  },
  {
   "cell_type": "code",
   "execution_count": 19,
   "metadata": {},
   "outputs": [],
   "source": [
    "df.loc[df['transmission'].str.contains('(?i)Manual'), 'transmission'] = 'Manual'"
   ]
  },
  {
   "cell_type": "code",
   "execution_count": 20,
   "metadata": {},
   "outputs": [
    {
     "data": {
      "text/html": [
       "<div>\n",
       "<style scoped>\n",
       "    .dataframe tbody tr th:only-of-type {\n",
       "        vertical-align: middle;\n",
       "    }\n",
       "\n",
       "    .dataframe tbody tr th {\n",
       "        vertical-align: top;\n",
       "    }\n",
       "\n",
       "    .dataframe thead th {\n",
       "        text-align: right;\n",
       "    }\n",
       "</style>\n",
       "<table border=\"1\" class=\"dataframe\">\n",
       "  <thead>\n",
       "    <tr style=\"text-align: right;\">\n",
       "      <th></th>\n",
       "      <th>price</th>\n",
       "      <th>miles</th>\n",
       "      <th>fuel_type</th>\n",
       "      <th>exterior_color</th>\n",
       "      <th>interior_color</th>\n",
       "      <th>drivetrain</th>\n",
       "      <th>transmission</th>\n",
       "      <th>engine</th>\n",
       "      <th>model_name</th>\n",
       "    </tr>\n",
       "  </thead>\n",
       "  <tbody>\n",
       "    <tr>\n",
       "      <th>1</th>\n",
       "      <td>$15,999</td>\n",
       "      <td>48,054 miles</td>\n",
       "      <td>Gasoline</td>\n",
       "      <td>Ruby Red Metallic Tinted Clearcoat</td>\n",
       "      <td>Charcoal Black</td>\n",
       "      <td>RWD</td>\n",
       "      <td>Manual</td>\n",
       "      <td>3.7L V6 24V MPFI DOHC</td>\n",
       "      <td>Mustang</td>\n",
       "    </tr>\n",
       "    <tr>\n",
       "      <th>2</th>\n",
       "      <td>$31,795</td>\n",
       "      <td>29,050 miles</td>\n",
       "      <td>Gasoline</td>\n",
       "      <td>Glacier White</td>\n",
       "      <td>Gray</td>\n",
       "      <td>RWD</td>\n",
       "      <td>Auto</td>\n",
       "      <td>V6</td>\n",
       "      <td>Model Unknown</td>\n",
       "    </tr>\n",
       "    <tr>\n",
       "      <th>3</th>\n",
       "      <td>$13,998</td>\n",
       "      <td>7 miles</td>\n",
       "      <td>Gasoline</td>\n",
       "      <td>Ingot Silver</td>\n",
       "      <td>Charcoal Black</td>\n",
       "      <td>FWD</td>\n",
       "      <td>Auto</td>\n",
       "      <td>1.6L I4 16V MPFI DOHC</td>\n",
       "      <td>Fiesta</td>\n",
       "    </tr>\n",
       "    <tr>\n",
       "      <th>5</th>\n",
       "      <td>$19,237</td>\n",
       "      <td>10 miles</td>\n",
       "      <td>Gasoline</td>\n",
       "      <td>Oxford White</td>\n",
       "      <td>Ebony</td>\n",
       "      <td>FWD</td>\n",
       "      <td>Auto</td>\n",
       "      <td>1.5L I4 16V GDI DOHC Turbo</td>\n",
       "      <td>Fusion</td>\n",
       "    </tr>\n",
       "    <tr>\n",
       "      <th>6</th>\n",
       "      <td>$38,868</td>\n",
       "      <td>3 miles</td>\n",
       "      <td>Gasoline</td>\n",
       "      <td>Oxford White</td>\n",
       "      <td>Charcoal</td>\n",
       "      <td>Rear Wheel Drive</td>\n",
       "      <td>Auto</td>\n",
       "      <td>3.5L V6 Turbocharged</td>\n",
       "      <td>Transit-350</td>\n",
       "    </tr>\n",
       "  </tbody>\n",
       "</table>\n",
       "</div>"
      ],
      "text/plain": [
       "     price         miles  fuel_type                       exterior_color  \\\n",
       "1  $15,999  48,054 miles   Gasoline   Ruby Red Metallic Tinted Clearcoat   \n",
       "2  $31,795  29,050 miles   Gasoline                        Glacier White   \n",
       "3  $13,998       7 miles   Gasoline                         Ingot Silver   \n",
       "5  $19,237      10 miles   Gasoline                         Oxford White   \n",
       "6  $38,868       3 miles   Gasoline                         Oxford White   \n",
       "\n",
       "    interior_color         drivetrain transmission  \\\n",
       "1   Charcoal Black                RWD       Manual   \n",
       "2             Gray                RWD         Auto   \n",
       "3   Charcoal Black                FWD         Auto   \n",
       "5            Ebony                FWD         Auto   \n",
       "6         Charcoal   Rear Wheel Drive         Auto   \n",
       "\n",
       "                        engine     model_name  \n",
       "1        3.7L V6 24V MPFI DOHC        Mustang  \n",
       "2                           V6  Model Unknown  \n",
       "3        1.6L I4 16V MPFI DOHC         Fiesta  \n",
       "5   1.5L I4 16V GDI DOHC Turbo         Fusion  \n",
       "6         3.5L V6 Turbocharged    Transit-350  "
      ]
     },
     "execution_count": 20,
     "metadata": {},
     "output_type": "execute_result"
    }
   ],
   "source": [
    "df.head()"
   ]
  },
  {
   "cell_type": "code",
   "execution_count": 21,
   "metadata": {},
   "outputs": [
    {
     "data": {
      "text/plain": [
       "array(['Manual', 'Auto', 'CVT', ' 10-Speed', ' 6-Speed A/T',\n",
       "       ' Not Specified', ' 6-SPD SELECT SHIFT',\n",
       "       ' 1-Speed Continuously Variable Ratio', ' Dual Shift Gearbox'],\n",
       "      dtype=object)"
      ]
     },
     "execution_count": 21,
     "metadata": {},
     "output_type": "execute_result"
    }
   ],
   "source": [
    "df['transmission'].unique()"
   ]
  },
  {
   "cell_type": "code",
   "execution_count": 22,
   "metadata": {},
   "outputs": [
    {
     "data": {
      "text/plain": [
       "Auto                                    645\n",
       "Manual                                   27\n",
       "CVT                                      16\n",
       " 10-Speed                                14\n",
       " 6-Speed A/T                              8\n",
       " 6-SPD SELECT SHIFT                       1\n",
       " 1-Speed Continuously Variable Ratio      1\n",
       " Not Specified                            1\n",
       " Dual Shift Gearbox                       1\n",
       "Name: transmission, dtype: int64"
      ]
     },
     "execution_count": 22,
     "metadata": {},
     "output_type": "execute_result"
    }
   ],
   "source": [
    "df.transmission.value_counts()"
   ]
  },
  {
   "cell_type": "code",
   "execution_count": 23,
   "metadata": {},
   "outputs": [],
   "source": [
    "df.drop(df.loc[df.transmission.str.contains('(?i)speed')].index, inplace=True)"
   ]
  },
  {
   "cell_type": "code",
   "execution_count": 24,
   "metadata": {},
   "outputs": [],
   "source": [
    "df.drop(df.loc[df.transmission.str.contains('(?i)not specified')].index, inplace=True)"
   ]
  },
  {
   "cell_type": "code",
   "execution_count": 25,
   "metadata": {},
   "outputs": [],
   "source": [
    "df.drop(df.loc[df.transmission.str.contains('(?i)shift')].index, inplace=True)"
   ]
  },
  {
   "cell_type": "code",
   "execution_count": 26,
   "metadata": {},
   "outputs": [
    {
     "data": {
      "text/plain": [
       "Auto      645\n",
       "Manual     27\n",
       "CVT        16\n",
       "Name: transmission, dtype: int64"
      ]
     },
     "execution_count": 26,
     "metadata": {},
     "output_type": "execute_result"
    }
   ],
   "source": [
    "df.transmission.value_counts()"
   ]
  },
  {
   "cell_type": "code",
   "execution_count": 27,
   "metadata": {},
   "outputs": [
    {
     "data": {
      "text/plain": [
       "array([' 3.7L V6 24V MPFI DOHC', ' V6', ' 1.6L I4 16V MPFI DOHC',\n",
       "       ' 1.5L I4 16V GDI DOHC Turbo', ' 3.5L V6 Turbocharged', ' 5.3L',\n",
       "       ' 2.0L', ' I4',\n",
       "       ' EcoBoost 3.5L V6 GTDi DOHC 24V Twin Turbocharged', ' V-6 3.7L',\n",
       "       ' 3.5L V6 24V GDI DOHC Twin Turbo',\n",
       "       ' Regular Unleaded I-4 2.0 L/122', ' 2.0L I4 16V GDI DOHC Turbo',\n",
       "       ' 6.7L V8 32V DDI OHV Turbo Diesel', ' 3.0L V6',\n",
       "       ' 6.2L V8 16V MPFI SOHC Flexible Fuel',\n",
       "       ' 3.5L V6 Twin Turbocharger',\n",
       "       ' 2.0L I4 16V GDI DOHC Flexible Fuel',\n",
       "       ' Regular Unleaded V-6 3.7 L/228',\n",
       "       ' 6.7L POWERSTROKE TURBODIESEL V8', ' 3.5L V6 24V MPFI DOHC', '4',\n",
       "       ' 3.5L V6 Ti-VCT', ' Regular Unleaded V-6 3.3 L',\n",
       "       ' 5.0L V8 32V MPFI DOHC', ' 6.7L Turbocharged', ' 6 Cylinder',\n",
       "       ' EcoBoost 2.7L V6 GTDi DOHC 24V Twin Turbocharged',\n",
       "       ' 2.0L 4 cyls', ' 1.5L I4 16V GDI DOHC Turbo Flexible Fuel',\n",
       "       ' 2.3L I4 16V GDI DOHC Turbo', ' 2.0L I4 16V MPFI DOHC Hybrid',\n",
       "       ' 3.5 L', ' 4 Cylinder', ' 1.6L I4 Turbocharger',\n",
       "       ' 5.0L V8 32V PDI DOHC', ' 2.0L 4-Cylinder DGI DOHC',\n",
       "       ' Intercooled Turbo Premium Unleaded I-4 2.0 L/122', ' 2.3L I4',\n",
       "       ' 4.2L V6 12V MPFI OHV',\n",
       "       ' EcoBoost 1.5L I4 GTDi DOHC Turbocharged VCT',\n",
       "       ' Premium Unleaded V-8 5.0 L/302',\n",
       "       ' 2.5L I4 16V MPFI DOHC Flexible Fuel', ' 2.0L I4 16V GDI DOHC',\n",
       "       ' Turbocharged Diesel V8 6.4L/391',\n",
       "       ' Regular Unleaded I-4 2.5 L/152',\n",
       "       ' Intercooled Turbo Regular Unleaded I-4 1.5 L/92',\n",
       "       ' 3.3L V6 24V PDI DOHC Flexible Fuel',\n",
       "       ' Intercooled Supercharger Premium Unleaded V-8 5.8 L/355',\n",
       "       ' 4.0L V6 SOHC', ' 4.2L V6',\n",
       "       ' 5.4L V8 24V MPFI SOHC Flexible Fuel',\n",
       "       ' 3.5L V6 24V PDI DOHC Twin Turbo', ' 3.5L V6',\n",
       "       ' 4 Cylinder EcoBoost', ' 3.5 L V6',\n",
       "       ' 2.7L V6 24V PDI DOHC Twin Turbo', ' 2.7L V6 EcoBoost',\n",
       "       ' 1.6L 4 CYLINDER', ' 3.7L V6 24V MPFI DOHC Flexible Fuel',\n",
       "       ' 4 Cylinder Engine 1.6L', ' 3.5L V6 24V MPFI DOHC Flexible Fuel',\n",
       "       ' Intercooled Turbo Diesel V-8 6.7 L/406',\n",
       "       ' Intercooled Turbo Regular Unleaded I-3 1.0 L/61',\n",
       "       ' Regular Unleaded V-6 3.5 L/213', ' 1.0L 3 cyls',\n",
       "       ' V-6 3.5L EcoBoost', ' 2.5L I4 16V MPFI DOHC', ' I4 Hybrid',\n",
       "       ' 2.7L V6', ' 3.7L V6 Ti-VCT 24V', ' 6.2L SOHC',\n",
       "       ' 2.0L I4 16V MPFI DOHC', ' 3.0L V6 24V MPFI DOHC Flexible Fuel',\n",
       "       ' 1.5L 4 Cyl.', ' 1.6L', ' 1.6L I4 Ti-VCT', ' 2.3L L4 SOHC 8V',\n",
       "       ' Twin Turbo Premium Unleaded V-6 3.5 L/213', ' 3.9L V6 OHV 12V',\n",
       "       ' 2.0L 4 Cyl.', ' Power Stroke 6.7L V8 DI 32V OHV Turbodiesel',\n",
       "       ' 3.5L V6 Cylinder Engine', ' 6.7L',\n",
       "       ' Intercooled Turbo Regular Unleaded I-4 1.5 L/91', ' 6.3L V8',\n",
       "       ' 4.6L V8 24V MPFI SOHC', ' 3.5L 6 Cyl. Gas',\n",
       "       ' Intercooled Turbo Premium Unleaded I-6 3.0 L/183',\n",
       "       ' EcoBoost 1.6L I4 GTDi DOHC Turbocharged VCT', ' 5.0 L',\n",
       "       ' 5.2L V8 32V MPFI DOHC', ' Gas V6 3.5L/213',\n",
       "       ' Power Stroke 6.7L V8 DI 32V OH', ' Gas V6 3.7L/227', ' 2.0L I4',\n",
       "       ' EcoBoost 2.0L I4 GTDi DOHC Turbocharged VCT',\n",
       "       ' Twin Turbo Regular Unleaded V-6 3.5 L/213',\n",
       "       ' Intercooled Turbo Diesel I-6 6.7 L/408',\n",
       "       ' 6.4L V8 32V DDI OHV Twin Turbo Diesel',\n",
       "       ' 1.0L I3 12V GDI DOHC Turbo', '8', ' 2.0L L4 DOHC 16V',\n",
       "       ' 6.0L V8 Turbocharger', ' 4.6L V8 32V MPFI DOHC',\n",
       "       ' V10 6.8L Natural Aspiration',\n",
       "       ' 2.0L I4 16V GDI DOHC Turbo Flexible Fuel',\n",
       "       ' Vortec 4.8L V8 285hp 295f', ' 3.5L 6-Cylinder SMPI DOHC',\n",
       "       ' 2.0 L', ' 5.0L V8', ' 2.5L L4 DOHC 16V',\n",
       "       ' 2.7L V6 24V GDI DOHC Twin Turbo', ' 2.5L 16v I4 Duratec Engine',\n",
       "       ' 7.3L V8 16V DDI OHV Turbo Diesel', ' 2.5 L', ' Gas V8 5.0L/302',\n",
       "       ' 8 Cylinder', ' 6.7L V8 OHV 16V DIESEL', ' 3.8L V6 OHV 12V',\n",
       "       ' 2.7 L', ' 4 Cylinder Engine 1.5L',\n",
       "       ' Gaseous Fuel Compatible V-6 3.7 L/228', ' 2.0L 4-Cyl Engine',\n",
       "       ' EcoBoost 2.3L I4 GTDi DOHC Turbocharged VCT', ' 6.2L V8',\n",
       "       ' 3.0L V6 12V MPFI OHV', ' 3.5L', ' 3.7L V6 DOHC 24V', ' 5.4L',\n",
       "       ' Regular Unleaded V-8 5.0 L/302', ' 1.5L 4-Cyl Engine', '6',\n",
       "       ' 2.0L 4 CYLINDER', ' 8 Cylinder Engine 6.0L',\n",
       "       ' 1.6L I4 16V GDI DOHC Turbo', ' V8', ' 3.0L V6 DOHC 24V',\n",
       "       ' Supercharged Gas V8 5.4L',\n",
       "       ' Twin Turbo Premium Unleaded V-6 3.0 L/183', ' Gas I4 1.6L/97',\n",
       "       ' 1.5 L', ' 6.0L V8 16V MPFI OHV Flexible Fuel', ' 6.2 L V8',\n",
       "       ' Regular Unleaded I-4 1.6 L/97', ' Gas V8 6.2L/376',\n",
       "       ' 2.5L 4 cyls', ' 4.6L V8', ' 3.9L V8 DOHC 32V',\n",
       "       ' Regular Unleaded V-8 5.6 L/339', ' Gas/Electric V-6 3.5 L/211',\n",
       "       ' Duratec 2.5L I4', ' Gas/Electric I-4 2.0 L/122', ' 5.0L V8 FFV',\n",
       "       ' 5.0L V8 Ti-VCT', ' 2.0L I4 (Ecoboost)',\n",
       "       ' 4 Cylinder Engine 2.0L', ' 6.2 L',\n",
       "       ' Regular Unleaded V-6 4.0 L/241', ' 2.3L I4 16V MPFI DOHC',\n",
       "       ' Intercooled Turbo Premium Unleaded I-4 2.3 L/140',\n",
       "       ' 2.0L 4 Cyl. Gas', ' 1.6L 4 Cyl.', ' 6 Cylinder EcoBoost',\n",
       "       ' 302 V8 Engine', ' 8 Cylinder Engine',\n",
       "       ' Intercooled Turbo Premium Unleaded I-4 1.6 L/97', ' 2.5L 4 Cyl.',\n",
       "       ' I4 2.0L Natural Aspiration', ' Gas V10 6.8L/415',\n",
       "       ' 6.2L 8 Cylinder Engine', ' 6.2L Flex Fuel V8 385hp 4',\n",
       "       ' I-4 2.0L', ' 6.0L V8',\n",
       "       ' EcoBoost 1.0L I3 GTDi DOHC Turbocharged VCT',\n",
       "       ' 2.7L V6 DOHC 24V', ' Twin Turbo Premium Unleaded V-6 2.7 L/164',\n",
       "       ' 3.7L V6', ' V6 3.5L Turbocharger',\n",
       "       ' Regular Unleaded V-8 6.2 L/379', ' 2.5L iVCT',\n",
       "       ' Gas V8 6.0L/365', ' 6.8L V10 20V MPFI SOHC',\n",
       "       ' 1.5L Turbocharged', ' Twin Turbo Regular Unleaded V-6 3.5 L',\n",
       "       ' 1.5L 4 cyls', ' 3.5L V6 DOHC 24V', ' 6.7L V8 Turbocharger',\n",
       "       ' Twin Turbo Regular Unleaded V-6 2.7 L/164',\n",
       "       ' 5.4L V8 16V MPFI SOHC Flexible Fuel', ' 5.4L V8',\n",
       "       ' 3.0L V6 24V DI DOHC Turbo Diesel',\n",
       "       ' 2.0L 4-Cylinder DGI Flex Fuel DOHC',\n",
       "       ' 5.0L V8 32V MPFI DOHC Flexible Fuel', ' Gas I4 2.0L/121',\n",
       "       ' Intercooled Turbo Regular Unleaded I-4 2.0 L/122'], dtype=object)"
      ]
     },
     "execution_count": 27,
     "metadata": {},
     "output_type": "execute_result"
    }
   ],
   "source": [
    "df.engine.unique()"
   ]
  },
  {
   "cell_type": "code",
   "execution_count": 28,
   "metadata": {},
   "outputs": [],
   "source": [
    "df.loc[df['engine'].str.contains('(?i)v-2|v2|I2|I-2|2 cyl|2-cyl|2.'), 'engine'] = 'V2'"
   ]
  },
  {
   "cell_type": "code",
   "execution_count": 29,
   "metadata": {},
   "outputs": [],
   "source": [
    "df.loc[df['engine'].str.contains('(?i)v-3|v3|I3|I-3|3 cyl|3-cyl|3.'), 'engine'] = 'V3'"
   ]
  },
  {
   "cell_type": "code",
   "execution_count": 30,
   "metadata": {},
   "outputs": [],
   "source": [
    "df.loc[df['engine'].str.contains('(?i)v-4|v4|I4|I-4|4 cyl|4-cyl|4.'), 'engine'] = 'V4'"
   ]
  },
  {
   "cell_type": "code",
   "execution_count": 31,
   "metadata": {},
   "outputs": [],
   "source": [
    "df.loc[df['engine'].str.contains('(?i)v-5|v5|I5|I-5|5 cyl|5-cyl|5.'), 'engine'] = 'V5'"
   ]
  },
  {
   "cell_type": "code",
   "execution_count": 32,
   "metadata": {},
   "outputs": [],
   "source": [
    "df.loc[df['engine'].str.contains('(?i)v-6|v6|I6|I-6|6 cyl|6-cyl|6.'), 'engine'] = 'V6'"
   ]
  },
  {
   "cell_type": "code",
   "execution_count": 33,
   "metadata": {},
   "outputs": [],
   "source": [
    "df.loc[df['engine'].str.contains('(?i)v-8|v8|I8|I-8|8 cyl|8-cyl|8.'), 'engine'] = 'V8'"
   ]
  },
  {
   "cell_type": "code",
   "execution_count": 34,
   "metadata": {},
   "outputs": [
    {
     "data": {
      "text/plain": [
       "array(['V2', 'V6', 'V4', 'V3', '4', 'V5', '8', 'V8', '6'], dtype=object)"
      ]
     },
     "execution_count": 34,
     "metadata": {},
     "output_type": "execute_result"
    }
   ],
   "source": [
    "df.engine.unique()"
   ]
  },
  {
   "cell_type": "code",
   "execution_count": 35,
   "metadata": {},
   "outputs": [],
   "source": [
    "df.loc[df['engine'].str.contains('4'), 'engine'] = 'V4'"
   ]
  },
  {
   "cell_type": "code",
   "execution_count": 36,
   "metadata": {},
   "outputs": [],
   "source": [
    "df.loc[df['engine'].str.contains('6'), 'engine'] = 'V6'"
   ]
  },
  {
   "cell_type": "code",
   "execution_count": 37,
   "metadata": {},
   "outputs": [],
   "source": [
    "df.loc[df['engine'].str.contains('8'), 'engine'] = 'V8'"
   ]
  },
  {
   "cell_type": "code",
   "execution_count": 38,
   "metadata": {},
   "outputs": [
    {
     "data": {
      "text/plain": [
       "array(['V2', 'V6', 'V4', 'V3', 'V5', 'V8'], dtype=object)"
      ]
     },
     "execution_count": 38,
     "metadata": {},
     "output_type": "execute_result"
    }
   ],
   "source": [
    "df.engine.unique()"
   ]
  },
  {
   "cell_type": "code",
   "execution_count": 39,
   "metadata": {},
   "outputs": [],
   "source": [
    "df.reset_index(inplace=True, drop=True) #resets the index of the data file"
   ]
  },
  {
   "cell_type": "code",
   "execution_count": 40,
   "metadata": {},
   "outputs": [
    {
     "data": {
      "text/html": [
       "<div>\n",
       "<style scoped>\n",
       "    .dataframe tbody tr th:only-of-type {\n",
       "        vertical-align: middle;\n",
       "    }\n",
       "\n",
       "    .dataframe tbody tr th {\n",
       "        vertical-align: top;\n",
       "    }\n",
       "\n",
       "    .dataframe thead th {\n",
       "        text-align: right;\n",
       "    }\n",
       "</style>\n",
       "<table border=\"1\" class=\"dataframe\">\n",
       "  <thead>\n",
       "    <tr style=\"text-align: right;\">\n",
       "      <th></th>\n",
       "      <th>price</th>\n",
       "      <th>miles</th>\n",
       "      <th>fuel_type</th>\n",
       "      <th>exterior_color</th>\n",
       "      <th>interior_color</th>\n",
       "      <th>drivetrain</th>\n",
       "      <th>transmission</th>\n",
       "      <th>engine</th>\n",
       "      <th>model_name</th>\n",
       "    </tr>\n",
       "  </thead>\n",
       "  <tbody>\n",
       "    <tr>\n",
       "      <th>0</th>\n",
       "      <td>$15,999</td>\n",
       "      <td>48,054 miles</td>\n",
       "      <td>Gasoline</td>\n",
       "      <td>Ruby Red Metallic Tinted Clearcoat</td>\n",
       "      <td>Charcoal Black</td>\n",
       "      <td>RWD</td>\n",
       "      <td>Manual</td>\n",
       "      <td>V2</td>\n",
       "      <td>Mustang</td>\n",
       "    </tr>\n",
       "    <tr>\n",
       "      <th>1</th>\n",
       "      <td>$31,795</td>\n",
       "      <td>29,050 miles</td>\n",
       "      <td>Gasoline</td>\n",
       "      <td>Glacier White</td>\n",
       "      <td>Gray</td>\n",
       "      <td>RWD</td>\n",
       "      <td>Auto</td>\n",
       "      <td>V6</td>\n",
       "      <td>Model Unknown</td>\n",
       "    </tr>\n",
       "    <tr>\n",
       "      <th>2</th>\n",
       "      <td>$13,998</td>\n",
       "      <td>7 miles</td>\n",
       "      <td>Gasoline</td>\n",
       "      <td>Ingot Silver</td>\n",
       "      <td>Charcoal Black</td>\n",
       "      <td>FWD</td>\n",
       "      <td>Auto</td>\n",
       "      <td>V4</td>\n",
       "      <td>Fiesta</td>\n",
       "    </tr>\n",
       "    <tr>\n",
       "      <th>3</th>\n",
       "      <td>$19,237</td>\n",
       "      <td>10 miles</td>\n",
       "      <td>Gasoline</td>\n",
       "      <td>Oxford White</td>\n",
       "      <td>Ebony</td>\n",
       "      <td>FWD</td>\n",
       "      <td>Auto</td>\n",
       "      <td>V4</td>\n",
       "      <td>Fusion</td>\n",
       "    </tr>\n",
       "    <tr>\n",
       "      <th>4</th>\n",
       "      <td>$38,868</td>\n",
       "      <td>3 miles</td>\n",
       "      <td>Gasoline</td>\n",
       "      <td>Oxford White</td>\n",
       "      <td>Charcoal</td>\n",
       "      <td>Rear Wheel Drive</td>\n",
       "      <td>Auto</td>\n",
       "      <td>V3</td>\n",
       "      <td>Transit-350</td>\n",
       "    </tr>\n",
       "    <tr>\n",
       "      <th>5</th>\n",
       "      <td>$12,997</td>\n",
       "      <td>132,434 miles</td>\n",
       "      <td>Gasoline</td>\n",
       "      <td>Silver Birch Metallic</td>\n",
       "      <td>Gray</td>\n",
       "      <td>AWD</td>\n",
       "      <td>Auto</td>\n",
       "      <td>V3</td>\n",
       "      <td>Model Unknown</td>\n",
       "    </tr>\n",
       "    <tr>\n",
       "      <th>6</th>\n",
       "      <td>$19,431</td>\n",
       "      <td>12 miles</td>\n",
       "      <td>Gasoline</td>\n",
       "      <td>Diamond White - White</td>\n",
       "      <td>Medium Stone Cloth</td>\n",
       "      <td>Four Wheel Drive</td>\n",
       "      <td>Auto</td>\n",
       "      <td>V2</td>\n",
       "      <td>EcoSport</td>\n",
       "    </tr>\n",
       "  </tbody>\n",
       "</table>\n",
       "</div>"
      ],
      "text/plain": [
       "     price          miles  fuel_type                       exterior_color  \\\n",
       "0  $15,999   48,054 miles   Gasoline   Ruby Red Metallic Tinted Clearcoat   \n",
       "1  $31,795   29,050 miles   Gasoline                        Glacier White   \n",
       "2  $13,998        7 miles   Gasoline                         Ingot Silver   \n",
       "3  $19,237       10 miles   Gasoline                         Oxford White   \n",
       "4  $38,868        3 miles   Gasoline                         Oxford White   \n",
       "5  $12,997  132,434 miles   Gasoline                Silver Birch Metallic   \n",
       "6  $19,431       12 miles   Gasoline                Diamond White - White   \n",
       "\n",
       "        interior_color         drivetrain transmission engine     model_name  \n",
       "0       Charcoal Black                RWD       Manual     V2        Mustang  \n",
       "1                 Gray                RWD         Auto     V6  Model Unknown  \n",
       "2       Charcoal Black                FWD         Auto     V4         Fiesta  \n",
       "3                Ebony                FWD         Auto     V4         Fusion  \n",
       "4             Charcoal   Rear Wheel Drive         Auto     V3    Transit-350  \n",
       "5                 Gray                AWD         Auto     V3  Model Unknown  \n",
       "6   Medium Stone Cloth   Four Wheel Drive         Auto     V2       EcoSport  "
      ]
     },
     "execution_count": 40,
     "metadata": {},
     "output_type": "execute_result"
    }
   ],
   "source": [
    "df.head(7)"
   ]
  },
  {
   "cell_type": "markdown",
   "metadata": {},
   "source": [
    "### Fix the format of column miles and price"
   ]
  },
  {
   "cell_type": "code",
   "execution_count": 41,
   "metadata": {},
   "outputs": [],
   "source": [
    "df['miles'] = df['miles'].str.replace(',', '')\n",
    "df['miles'] = df['miles'].str.replace(' miles', '')"
   ]
  },
  {
   "cell_type": "code",
   "execution_count": 42,
   "metadata": {},
   "outputs": [],
   "source": [
    "df['price'] = df['price'].str.replace(',', '')\n",
    "df['price'] = df['price'].str.replace('$', '')"
   ]
  },
  {
   "cell_type": "code",
   "execution_count": 43,
   "metadata": {},
   "outputs": [
    {
     "data": {
      "text/plain": [
       "price             object\n",
       "miles             object\n",
       "fuel_type         object\n",
       "exterior_color    object\n",
       "interior_color    object\n",
       "drivetrain        object\n",
       "transmission      object\n",
       "engine            object\n",
       "model_name        object\n",
       "dtype: object"
      ]
     },
     "execution_count": 43,
     "metadata": {},
     "output_type": "execute_result"
    }
   ],
   "source": [
    "df.dtypes # displays the datatype of all columns"
   ]
  },
  {
   "cell_type": "code",
   "execution_count": 44,
   "metadata": {},
   "outputs": [],
   "source": [
    "df[\"price\"] = pd.to_numeric(df[\"price\"])\n",
    "df[\"miles\"] = pd.to_numeric(df[\"miles\"])"
   ]
  },
  {
   "cell_type": "markdown",
   "metadata": {},
   "source": [
    "### Save the Cleaned Dataset"
   ]
  },
  {
   "cell_type": "code",
   "execution_count": 45,
   "metadata": {},
   "outputs": [],
   "source": [
    "df.to_csv('Lab01_AMo37709.csv',index=False) #saves the cleaned dataset"
   ]
  },
  {
   "cell_type": "markdown",
   "metadata": {},
   "source": [
    "### Analyze the Statistics"
   ]
  },
  {
   "cell_type": "code",
   "execution_count": 46,
   "metadata": {},
   "outputs": [
    {
     "data": {
      "text/html": [
       "<div>\n",
       "<style scoped>\n",
       "    .dataframe tbody tr th:only-of-type {\n",
       "        vertical-align: middle;\n",
       "    }\n",
       "\n",
       "    .dataframe tbody tr th {\n",
       "        vertical-align: top;\n",
       "    }\n",
       "\n",
       "    .dataframe thead th {\n",
       "        text-align: right;\n",
       "    }\n",
       "</style>\n",
       "<table border=\"1\" class=\"dataframe\">\n",
       "  <thead>\n",
       "    <tr style=\"text-align: right;\">\n",
       "      <th></th>\n",
       "      <th>price</th>\n",
       "      <th>miles</th>\n",
       "      <th>fuel_type</th>\n",
       "      <th>exterior_color</th>\n",
       "      <th>interior_color</th>\n",
       "      <th>drivetrain</th>\n",
       "      <th>transmission</th>\n",
       "      <th>engine</th>\n",
       "      <th>model_name</th>\n",
       "    </tr>\n",
       "  </thead>\n",
       "  <tbody>\n",
       "    <tr>\n",
       "      <th>0</th>\n",
       "      <td>15999</td>\n",
       "      <td>48054</td>\n",
       "      <td>Gasoline</td>\n",
       "      <td>Ruby Red Metallic Tinted Clearcoat</td>\n",
       "      <td>Charcoal Black</td>\n",
       "      <td>RWD</td>\n",
       "      <td>Manual</td>\n",
       "      <td>V2</td>\n",
       "      <td>Mustang</td>\n",
       "    </tr>\n",
       "    <tr>\n",
       "      <th>1</th>\n",
       "      <td>31795</td>\n",
       "      <td>29050</td>\n",
       "      <td>Gasoline</td>\n",
       "      <td>Glacier White</td>\n",
       "      <td>Gray</td>\n",
       "      <td>RWD</td>\n",
       "      <td>Auto</td>\n",
       "      <td>V6</td>\n",
       "      <td>Model Unknown</td>\n",
       "    </tr>\n",
       "    <tr>\n",
       "      <th>2</th>\n",
       "      <td>13998</td>\n",
       "      <td>7</td>\n",
       "      <td>Gasoline</td>\n",
       "      <td>Ingot Silver</td>\n",
       "      <td>Charcoal Black</td>\n",
       "      <td>FWD</td>\n",
       "      <td>Auto</td>\n",
       "      <td>V4</td>\n",
       "      <td>Fiesta</td>\n",
       "    </tr>\n",
       "    <tr>\n",
       "      <th>3</th>\n",
       "      <td>19237</td>\n",
       "      <td>10</td>\n",
       "      <td>Gasoline</td>\n",
       "      <td>Oxford White</td>\n",
       "      <td>Ebony</td>\n",
       "      <td>FWD</td>\n",
       "      <td>Auto</td>\n",
       "      <td>V4</td>\n",
       "      <td>Fusion</td>\n",
       "    </tr>\n",
       "    <tr>\n",
       "      <th>4</th>\n",
       "      <td>38868</td>\n",
       "      <td>3</td>\n",
       "      <td>Gasoline</td>\n",
       "      <td>Oxford White</td>\n",
       "      <td>Charcoal</td>\n",
       "      <td>Rear Wheel Drive</td>\n",
       "      <td>Auto</td>\n",
       "      <td>V3</td>\n",
       "      <td>Transit-350</td>\n",
       "    </tr>\n",
       "  </tbody>\n",
       "</table>\n",
       "</div>"
      ],
      "text/plain": [
       "   price  miles  fuel_type                       exterior_color  \\\n",
       "0  15999  48054   Gasoline   Ruby Red Metallic Tinted Clearcoat   \n",
       "1  31795  29050   Gasoline                        Glacier White   \n",
       "2  13998      7   Gasoline                         Ingot Silver   \n",
       "3  19237     10   Gasoline                         Oxford White   \n",
       "4  38868      3   Gasoline                         Oxford White   \n",
       "\n",
       "    interior_color         drivetrain transmission engine     model_name  \n",
       "0   Charcoal Black                RWD       Manual     V2        Mustang  \n",
       "1             Gray                RWD         Auto     V6  Model Unknown  \n",
       "2   Charcoal Black                FWD         Auto     V4         Fiesta  \n",
       "3            Ebony                FWD         Auto     V4         Fusion  \n",
       "4         Charcoal   Rear Wheel Drive         Auto     V3    Transit-350  "
      ]
     },
     "execution_count": 46,
     "metadata": {},
     "output_type": "execute_result"
    }
   ],
   "source": [
    "df.head()"
   ]
  },
  {
   "cell_type": "code",
   "execution_count": 47,
   "metadata": {},
   "outputs": [
    {
     "data": {
      "text/html": [
       "<div>\n",
       "<style scoped>\n",
       "    .dataframe tbody tr th:only-of-type {\n",
       "        vertical-align: middle;\n",
       "    }\n",
       "\n",
       "    .dataframe tbody tr th {\n",
       "        vertical-align: top;\n",
       "    }\n",
       "\n",
       "    .dataframe thead th {\n",
       "        text-align: right;\n",
       "    }\n",
       "</style>\n",
       "<table border=\"1\" class=\"dataframe\">\n",
       "  <thead>\n",
       "    <tr style=\"text-align: right;\">\n",
       "      <th></th>\n",
       "      <th>price</th>\n",
       "      <th>miles</th>\n",
       "    </tr>\n",
       "  </thead>\n",
       "  <tbody>\n",
       "    <tr>\n",
       "      <th>count</th>\n",
       "      <td>688.000000</td>\n",
       "      <td>688.000000</td>\n",
       "    </tr>\n",
       "    <tr>\n",
       "      <th>mean</th>\n",
       "      <td>29012.081395</td>\n",
       "      <td>24578.636628</td>\n",
       "    </tr>\n",
       "    <tr>\n",
       "      <th>std</th>\n",
       "      <td>15421.825892</td>\n",
       "      <td>40091.394808</td>\n",
       "    </tr>\n",
       "    <tr>\n",
       "      <th>min</th>\n",
       "      <td>1595.000000</td>\n",
       "      <td>1.000000</td>\n",
       "    </tr>\n",
       "    <tr>\n",
       "      <th>25%</th>\n",
       "      <td>17292.000000</td>\n",
       "      <td>5.000000</td>\n",
       "    </tr>\n",
       "    <tr>\n",
       "      <th>50%</th>\n",
       "      <td>26040.000000</td>\n",
       "      <td>52.000000</td>\n",
       "    </tr>\n",
       "    <tr>\n",
       "      <th>75%</th>\n",
       "      <td>37529.500000</td>\n",
       "      <td>35488.250000</td>\n",
       "    </tr>\n",
       "    <tr>\n",
       "      <th>max</th>\n",
       "      <td>83060.000000</td>\n",
       "      <td>215407.000000</td>\n",
       "    </tr>\n",
       "  </tbody>\n",
       "</table>\n",
       "</div>"
      ],
      "text/plain": [
       "              price          miles\n",
       "count    688.000000     688.000000\n",
       "mean   29012.081395   24578.636628\n",
       "std    15421.825892   40091.394808\n",
       "min     1595.000000       1.000000\n",
       "25%    17292.000000       5.000000\n",
       "50%    26040.000000      52.000000\n",
       "75%    37529.500000   35488.250000\n",
       "max    83060.000000  215407.000000"
      ]
     },
     "execution_count": 47,
     "metadata": {},
     "output_type": "execute_result"
    }
   ],
   "source": [
    "df.describe() #displays statistics of theh data"
   ]
  },
  {
   "cell_type": "code",
   "execution_count": 48,
   "metadata": {},
   "outputs": [
    {
     "data": {
      "text/html": [
       "<div>\n",
       "<style scoped>\n",
       "    .dataframe tbody tr th:only-of-type {\n",
       "        vertical-align: middle;\n",
       "    }\n",
       "\n",
       "    .dataframe tbody tr th {\n",
       "        vertical-align: top;\n",
       "    }\n",
       "\n",
       "    .dataframe thead th {\n",
       "        text-align: right;\n",
       "    }\n",
       "</style>\n",
       "<table border=\"1\" class=\"dataframe\">\n",
       "  <thead>\n",
       "    <tr style=\"text-align: right;\">\n",
       "      <th></th>\n",
       "      <th>price</th>\n",
       "      <th>miles</th>\n",
       "    </tr>\n",
       "  </thead>\n",
       "  <tbody>\n",
       "    <tr>\n",
       "      <th>price</th>\n",
       "      <td>2.378327e+08</td>\n",
       "      <td>-2.939074e+08</td>\n",
       "    </tr>\n",
       "    <tr>\n",
       "      <th>miles</th>\n",
       "      <td>-2.939074e+08</td>\n",
       "      <td>1.607320e+09</td>\n",
       "    </tr>\n",
       "  </tbody>\n",
       "</table>\n",
       "</div>"
      ],
      "text/plain": [
       "              price         miles\n",
       "price  2.378327e+08 -2.939074e+08\n",
       "miles -2.939074e+08  1.607320e+09"
      ]
     },
     "execution_count": 48,
     "metadata": {},
     "output_type": "execute_result"
    }
   ],
   "source": [
    "df.cov() #displays covariance of integer columns"
   ]
  },
  {
   "cell_type": "code",
   "execution_count": 49,
   "metadata": {},
   "outputs": [
    {
     "data": {
      "text/html": [
       "<div>\n",
       "<style scoped>\n",
       "    .dataframe tbody tr th:only-of-type {\n",
       "        vertical-align: middle;\n",
       "    }\n",
       "\n",
       "    .dataframe tbody tr th {\n",
       "        vertical-align: top;\n",
       "    }\n",
       "\n",
       "    .dataframe thead th {\n",
       "        text-align: right;\n",
       "    }\n",
       "</style>\n",
       "<table border=\"1\" class=\"dataframe\">\n",
       "  <thead>\n",
       "    <tr style=\"text-align: right;\">\n",
       "      <th></th>\n",
       "      <th>price</th>\n",
       "      <th>miles</th>\n",
       "    </tr>\n",
       "  </thead>\n",
       "  <tbody>\n",
       "    <tr>\n",
       "      <th>price</th>\n",
       "      <td>1.000000</td>\n",
       "      <td>-0.475361</td>\n",
       "    </tr>\n",
       "    <tr>\n",
       "      <th>miles</th>\n",
       "      <td>-0.475361</td>\n",
       "      <td>1.000000</td>\n",
       "    </tr>\n",
       "  </tbody>\n",
       "</table>\n",
       "</div>"
      ],
      "text/plain": [
       "          price     miles\n",
       "price  1.000000 -0.475361\n",
       "miles -0.475361  1.000000"
      ]
     },
     "execution_count": 49,
     "metadata": {},
     "output_type": "execute_result"
    }
   ],
   "source": [
    "df.corr() #displays correlation of integer columns"
   ]
  },
  {
   "cell_type": "markdown",
   "metadata": {},
   "source": [
    "### Data visualization"
   ]
  },
  {
   "cell_type": "code",
   "execution_count": 50,
   "metadata": {},
   "outputs": [
    {
     "data": {
      "text/plain": [
       "<matplotlib.collections.PathCollection at 0x13f673e9880>"
      ]
     },
     "execution_count": 50,
     "metadata": {},
     "output_type": "execute_result"
    },
    {
     "data": {
      "image/png": "[encoded data removed]",
      "text/plain": [
       "<Figure size 432x288 with 1 Axes>"
      ]
     },
     "metadata": {
      "needs_background": "light"
     },
     "output_type": "display_data"
    }
   ],
   "source": [
    "plt.scatter(df.price, df.miles)"
   ]
  },
  {
   "cell_type": "code",
   "execution_count": 51,
   "metadata": {},
   "outputs": [
    {
     "data": {
      "text/plain": [
       "<seaborn.axisgrid.FacetGrid at 0x13f67499be0>"
      ]
     },
     "execution_count": 51,
     "metadata": {},
     "output_type": "execute_result"
    },
    {
     "data": {
      "image/png": "[encoded data removed]",
      "text/plain": [
       "<Figure size 360x360 with 1 Axes>"
      ]
     },
     "metadata": {
      "needs_background": "light"
     },
     "output_type": "display_data"
    }
   ],
   "source": [
    "seab.relplot(data=df, x=\"price\", y=\"miles\", kind='scatter')"
   ]
  }
 ],
 "metadata": {
  "kernelspec": {
   "display_name": "Python 3",
   "language": "python",
   "name": "python3"
  },
  "language_info": {
   "codemirror_mode": {
    "name": "ipython",
    "version": 3
   },
   "file_extension": ".py",
   "mimetype": "text/x-python",
   "name": "python",
   "nbconvert_exporter": "python",
   "pygments_lexer": "ipython3",
   "version": "3.8.5"
  }
 },
 "nbformat": 4,
 "nbformat_minor": 4
}
