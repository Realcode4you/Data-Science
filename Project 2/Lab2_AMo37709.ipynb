{
 "cells": [
  {
   "cell_type": "markdown",
   "metadata": {},
   "source": [
    "## CSIS 3290 – 001 – Lab 02\n",
    "### Name- Arpit Mohanani\n",
    "### Student ID- 300337709"
   ]
  },
  {
   "cell_type": "markdown",
   "metadata": {},
   "source": [
    "### Load the python library"
   ]
  },
  {
   "cell_type": "code",
   "execution_count": 24,
   "metadata": {},
   "outputs": [],
   "source": [
    "import pandas as pd\n",
    "import matplotlib.pyplot as plt\n",
    "import seaborn as seab\n",
    "from scipy.stats import norm"
   ]
  },
  {
   "cell_type": "markdown",
   "metadata": {},
   "source": [
    "### Read the data"
   ]
  },
  {
   "cell_type": "code",
   "execution_count": 25,
   "metadata": {},
   "outputs": [],
   "source": [
    "df = pd.read_csv('Lab01_AMo37709.csv') #reads the csv file"
   ]
  },
  {
   "cell_type": "code",
   "execution_count": 26,
   "metadata": {},
   "outputs": [
    {
     "data": {
      "text/html": [
       "<div>\n",
       "<style scoped>\n",
       "    .dataframe tbody tr th:only-of-type {\n",
       "        vertical-align: middle;\n",
       "    }\n",
       "\n",
       "    .dataframe tbody tr th {\n",
       "        vertical-align: top;\n",
       "    }\n",
       "\n",
       "    .dataframe thead th {\n",
       "        text-align: right;\n",
       "    }\n",
       "</style>\n",
       "<table border=\"1\" class=\"dataframe\">\n",
       "  <thead>\n",
       "    <tr style=\"text-align: right;\">\n",
       "      <th></th>\n",
       "      <th>price</th>\n",
       "      <th>miles</th>\n",
       "      <th>fuel_type</th>\n",
       "      <th>exterior_color</th>\n",
       "      <th>interior_color</th>\n",
       "      <th>drivetrain</th>\n",
       "      <th>transmission</th>\n",
       "      <th>engine</th>\n",
       "      <th>model_name</th>\n",
       "    </tr>\n",
       "  </thead>\n",
       "  <tbody>\n",
       "    <tr>\n",
       "      <th>0</th>\n",
       "      <td>15999</td>\n",
       "      <td>48054</td>\n",
       "      <td>Gasoline</td>\n",
       "      <td>Ruby Red Metallic Tinted Clearcoat</td>\n",
       "      <td>Charcoal Black</td>\n",
       "      <td>RWD</td>\n",
       "      <td>Manual</td>\n",
       "      <td>V2</td>\n",
       "      <td>Mustang</td>\n",
       "    </tr>\n",
       "    <tr>\n",
       "      <th>1</th>\n",
       "      <td>31795</td>\n",
       "      <td>29050</td>\n",
       "      <td>Gasoline</td>\n",
       "      <td>Glacier White</td>\n",
       "      <td>Gray</td>\n",
       "      <td>RWD</td>\n",
       "      <td>Auto</td>\n",
       "      <td>V6</td>\n",
       "      <td>Model Unknown</td>\n",
       "    </tr>\n",
       "    <tr>\n",
       "      <th>2</th>\n",
       "      <td>13998</td>\n",
       "      <td>7</td>\n",
       "      <td>Gasoline</td>\n",
       "      <td>Ingot Silver</td>\n",
       "      <td>Charcoal Black</td>\n",
       "      <td>FWD</td>\n",
       "      <td>Auto</td>\n",
       "      <td>V4</td>\n",
       "      <td>Fiesta</td>\n",
       "    </tr>\n",
       "    <tr>\n",
       "      <th>3</th>\n",
       "      <td>19237</td>\n",
       "      <td>10</td>\n",
       "      <td>Gasoline</td>\n",
       "      <td>Oxford White</td>\n",
       "      <td>Ebony</td>\n",
       "      <td>FWD</td>\n",
       "      <td>Auto</td>\n",
       "      <td>V4</td>\n",
       "      <td>Fusion</td>\n",
       "    </tr>\n",
       "    <tr>\n",
       "      <th>4</th>\n",
       "      <td>38868</td>\n",
       "      <td>3</td>\n",
       "      <td>Gasoline</td>\n",
       "      <td>Oxford White</td>\n",
       "      <td>Charcoal</td>\n",
       "      <td>Rear Wheel Drive</td>\n",
       "      <td>Auto</td>\n",
       "      <td>V3</td>\n",
       "      <td>Transit-350</td>\n",
       "    </tr>\n",
       "  </tbody>\n",
       "</table>\n",
       "</div>"
      ],
      "text/plain": [
       "   price  miles  fuel_type                       exterior_color  \\\n",
       "0  15999  48054   Gasoline   Ruby Red Metallic Tinted Clearcoat   \n",
       "1  31795  29050   Gasoline                        Glacier White   \n",
       "2  13998      7   Gasoline                         Ingot Silver   \n",
       "3  19237     10   Gasoline                         Oxford White   \n",
       "4  38868      3   Gasoline                         Oxford White   \n",
       "\n",
       "    interior_color         drivetrain transmission engine     model_name  \n",
       "0   Charcoal Black                RWD       Manual     V2        Mustang  \n",
       "1             Gray                RWD         Auto     V6  Model Unknown  \n",
       "2   Charcoal Black                FWD         Auto     V4         Fiesta  \n",
       "3            Ebony                FWD         Auto     V4         Fusion  \n",
       "4         Charcoal   Rear Wheel Drive         Auto     V3    Transit-350  "
      ]
     },
     "execution_count": 26,
     "metadata": {},
     "output_type": "execute_result"
    }
   ],
   "source": [
    "df.head()"
   ]
  },
  {
   "cell_type": "markdown",
   "metadata": {},
   "source": [
    "### Reduce the number of unique values in fuel_type"
   ]
  },
  {
   "cell_type": "code",
   "execution_count": 27,
   "metadata": {},
   "outputs": [
    {
     "data": {
      "text/plain": [
       "array([' Gasoline', ' Electric', ' E85 Flex Fuel', ' Diesel', ' Hybrid',\n",
       "       ' Unknown'], dtype=object)"
      ]
     },
     "execution_count": 27,
     "metadata": {},
     "output_type": "execute_result"
    }
   ],
   "source": [
    "df.fuel_type.unique()"
   ]
  },
  {
   "cell_type": "code",
   "execution_count": 28,
   "metadata": {},
   "outputs": [
    {
     "data": {
      "text/plain": [
       " Gasoline         535\n",
       " E85 Flex Fuel     94\n",
       " Diesel            38\n",
       " Hybrid            18\n",
       " Unknown            2\n",
       " Electric           1\n",
       "Name: fuel_type, dtype: int64"
      ]
     },
     "execution_count": 28,
     "metadata": {},
     "output_type": "execute_result"
    }
   ],
   "source": [
    "df.fuel_type.value_counts()"
   ]
  },
  {
   "cell_type": "code",
   "execution_count": 29,
   "metadata": {},
   "outputs": [],
   "source": [
    "df.loc[df['fuel_type'].str.contains('(?i)E85 Flex Fuel'), 'fuel_type'] = 'Gas'"
   ]
  },
  {
   "cell_type": "code",
   "execution_count": 30,
   "metadata": {},
   "outputs": [
    {
     "data": {
      "text/plain": [
       " Gasoline    535\n",
       "Gas           94\n",
       " Diesel       38\n",
       " Hybrid       18\n",
       " Unknown       2\n",
       " Electric      1\n",
       "Name: fuel_type, dtype: int64"
      ]
     },
     "execution_count": 30,
     "metadata": {},
     "output_type": "execute_result"
    }
   ],
   "source": [
    "df.fuel_type.value_counts()"
   ]
  },
  {
   "cell_type": "code",
   "execution_count": 31,
   "metadata": {},
   "outputs": [],
   "source": [
    "df['fuel_type'] = df['fuel_type'].str.strip()"
   ]
  },
  {
   "cell_type": "code",
   "execution_count": 32,
   "metadata": {},
   "outputs": [
    {
     "data": {
      "text/plain": [
       "Gasoline    535\n",
       "Gas          94\n",
       "Diesel       38\n",
       "Hybrid       18\n",
       "Unknown       2\n",
       "Electric      1\n",
       "Name: fuel_type, dtype: int64"
      ]
     },
     "execution_count": 32,
     "metadata": {},
     "output_type": "execute_result"
    }
   ],
   "source": [
    "df.fuel_type.value_counts()"
   ]
  },
  {
   "cell_type": "code",
   "execution_count": 33,
   "metadata": {},
   "outputs": [],
   "source": [
    "df.drop(df.loc[df.fuel_type.str.contains('(?i)Unknown')].index, inplace=True)"
   ]
  },
  {
   "cell_type": "code",
   "execution_count": 34,
   "metadata": {},
   "outputs": [],
   "source": [
    "df.drop(df.loc[df.fuel_type.str.contains('(?i)Electric')].index, inplace=True)"
   ]
  },
  {
   "cell_type": "code",
   "execution_count": 35,
   "metadata": {},
   "outputs": [
    {
     "data": {
      "text/plain": [
       "Gasoline    535\n",
       "Gas          94\n",
       "Diesel       38\n",
       "Hybrid       18\n",
       "Name: fuel_type, dtype: int64"
      ]
     },
     "execution_count": 35,
     "metadata": {},
     "output_type": "execute_result"
    }
   ],
   "source": [
    "df.fuel_type.value_counts()"
   ]
  },
  {
   "cell_type": "markdown",
   "metadata": {},
   "source": [
    "### Reduce the number of unique values in exterior_color"
   ]
  },
  {
   "cell_type": "code",
   "execution_count": 36,
   "metadata": {},
   "outputs": [
    {
     "data": {
      "text/plain": [
       "array([' Ruby Red Metallic Tinted Clearcoat', ' Glacier White',\n",
       "       ' Ingot Silver', ' Oxford White', ' Silver Birch Metallic',\n",
       "       ' Diamond White - White', ' Ingot Silver Metallic',\n",
       "       ' Magnetic Metallic', ' Stone Gray', ' White',\n",
       "       ' Tuxedo Black Metallic', ' Black', ' Magnetic', ' Shadow Black',\n",
       "       ' Blue', ' White Platinum Metallic Tri-Coat',\n",
       "       ' Deep Impact Blue Metallic', ' Oxford White - White',\n",
       "       ' Magma Red', ' Agate Black Metallic', ' Lightning Blue',\n",
       "       ' Blue Metallic', ' Baltic Sea Green Metallic',\n",
       "       ' Burgundy Velvet Metallic Tinted Clearcoat',\n",
       "       ' Ruby Red Tinted Clearcoat', ' Silver', ' Alloy Metallic',\n",
       "       ' Bordeaux Reserve Red Metallic', ' Gray', ' Ruby Red',\n",
       "       ' Frozen White Metallic', ' Frozen White', ' Dark Blue Pearl',\n",
       "       ' Redfire Metallic', ' Dark Blue', ' Agate', ' Chili Pepper Red',\n",
       "       ' Race Red', ' Hot Pepper Red Tinted Clearcoat',\n",
       "       ' Lightning Blue Metallic', ' Orange Metallic', ' Red',\n",
       "       ' Deep Impact Blue', ' White Platinum Tri-Coat Metallic',\n",
       "       ' Smoke Metallic', ' Kona Blue Metallic', ' Steel Blue Metallic',\n",
       "       ' Guard', ' Slate Metallic', ' White Gold', ' Ft Blue Metallic',\n",
       "       ' Colorado Red', ' Canyon Ridge Metallic',\n",
       "       ' White Platinum Tri-Coat', ' Green', ' Ruby Red Metallic',\n",
       "       ' Black Sapphire Metallic', ' Bordeaux Reserve',\n",
       "       ' White Platinum Tricoat', ' Red Candy Metallic', ' Tectonic',\n",
       "       ' Burgundy', ' Agate Black', ' Bright White Clearcoat',\n",
       "       ' Ingot Silver Metallic - Silver', ' Screaming Yellow',\n",
       "       ' Kona Blue', ' Tuxedo Black',\n",
       "       ' White Platinum Clearcoat Metallic', ' Black Metallic',\n",
       "       ' Blue Jeans Metallic', ' Electric Red', ' Magma Red Metallic',\n",
       "       ' Cinnamon', ' Dark Shadow Gray Metallic', ' Smoke',\n",
       "       ' J7 Magnetic Metallic',\n",
       "       ' Burgundy Velvet Metallic Tinted Clearcoat - Red',\n",
       "       ' G1 Shadow Black', ' Moondust Silver Metallic', ' White Metallic',\n",
       "       ' Brown', ' Oxfordwhite', ' Arizona Beige Clearcoat Metallic',\n",
       "       ' Pueblo Gold Metallic', ' Bronze Fire', ' Performance Blue',\n",
       "       ' Special Paint', ' White Platinum', ' Vapor Silver Metallic',\n",
       "       ' Designo Diamond White Metallic', ' Blue Flame Metallic',\n",
       "       ' Diamond White', ' White Platinum Metallic Tri-Coat - White',\n",
       "       ' Dark Red', ' Black Diamond Tricoat', ' Orange',\n",
       "       ' Dark Side Metallic', ' Evening Black', ' Nebula Gray Pearl',\n",
       "       ' Orange Fury', ' Sterling Gray Metallic', ' Ebony',\n",
       "       ' Bohai Bay Mint Metallic - Green', ' Sea Green',\n",
       "       ' Vista Blue Metallic', ' Bronze Fire Metallic Tinted Clearcoat',\n",
       "       ' Crimson', ' Ginger Ale Metallic', ' Harvest Gold Metallic',\n",
       "       ' Platinum Dune Metallic', ' Yellow', ' Champagne',\n",
       "       ' Sunset Metallic', ' Charcoal', ' White Gold Metallic',\n",
       "       ' Arc White', ' Dark Toreador Red Metallic',\n",
       "       ' Shadow Black - Black', ' Tan', ' Lead Foot',\n",
       "       ' Blue Candy Metallic', ' Candy Red Metallic Tinted',\n",
       "       ' Velocity Blue Metallic', ' Cd Silver Clearcoat Metallic',\n",
       "       ' Rich Copper', ' Red Candy Tinted Metallic'], dtype=object)"
      ]
     },
     "execution_count": 36,
     "metadata": {},
     "output_type": "execute_result"
    }
   ],
   "source": [
    "df.exterior_color.unique()"
   ]
  },
  {
   "cell_type": "code",
   "execution_count": 37,
   "metadata": {},
   "outputs": [],
   "source": [
    "# Giving generic names to exterior color\n",
    "df.loc[df['exterior_color'].str.contains('(?i)black'), 'exterior_color'] = 'black'\n",
    "df.loc[df['exterior_color'].str.contains('(?i)white'), 'exterior_color'] = 'white'\n",
    "df.loc[df['exterior_color'].str.contains('(?i)magnetic'), 'exterior_color'] = 'magnetic'\n",
    "df.loc[df['exterior_color'].str.contains('(?i)red|crimson'), 'exterior_color'] = 'red'\n",
    "df.loc[df['exterior_color'].str.contains('(?i)blue'), 'exterior_color'] = 'blue'\n",
    "df.loc[df['exterior_color'].str.contains('(?i)gray|charcoal|slate|agate'), 'exterior_color'] = 'gray'\n",
    "df.loc[df['exterior_color'].str.contains('(?i)silver|tectonic'), 'exterior_color'] = 'silver'\n",
    "df.loc[df['exterior_color'].str.contains('(?i)green|ebony|guard'), 'exterior_color'] = 'green'\n",
    "df.loc[df['exterior_color'].str.contains('(?i)burgundy|tectonic'), 'exterior_color'] = 'burgundy'\n",
    "df.loc[df['exterior_color'].str.contains('(?i)orange'), 'exterior_color'] = 'orange'\n",
    "df.loc[df['exterior_color'].str.contains('(?i)yellow'), 'exterior_color'] = 'yellow'\n",
    "df.loc[df['exterior_color'].str.contains('(?i)brown|tan'), 'exterior_color'] = 'brown'\n",
    "df.loc[df['exterior_color'].str.contains('(?i)metallic'), 'exterior_color'] = 'metallic'\n",
    "df.loc[df['exterior_color'].str.contains('(?i)Bordeaux Reserve|Rich Copper|Cinnamon|Special Paint|Smoke|Bronze Fire|Champagne|Lead Foot'), 'exterior_color'] = 'other'"
   ]
  },
  {
   "cell_type": "code",
   "execution_count": 38,
   "metadata": {},
   "outputs": [
    {
     "data": {
      "text/plain": [
       "white       177\n",
       "black       139\n",
       "red          91\n",
       "silver       80\n",
       "magnetic     65\n",
       "blue         60\n",
       "gray         24\n",
       "metallic     15\n",
       "green        12\n",
       "other         8\n",
       "burgundy      7\n",
       "orange        3\n",
       "yellow        2\n",
       "brown         2\n",
       "Name: exterior_color, dtype: int64"
      ]
     },
     "execution_count": 38,
     "metadata": {},
     "output_type": "execute_result"
    }
   ],
   "source": [
    "df.exterior_color.value_counts()"
   ]
  },
  {
   "cell_type": "markdown",
   "metadata": {},
   "source": [
    "### Reduce the number of unique values in drivetrain"
   ]
  },
  {
   "cell_type": "code",
   "execution_count": 39,
   "metadata": {},
   "outputs": [
    {
     "data": {
      "text/plain": [
       "array([' RWD', ' FWD', ' Rear Wheel Drive', ' AWD', ' Four Wheel Drive',\n",
       "       ' 4WD', ' Front', ' Front Wheel Drive', ' 2WD', ' 4X4',\n",
       "       ' ALL WHEEL', ' Automatic 5-Speed', ' Automatic 6-Speed', ' 4X2',\n",
       "       ' 4WD/AWD', ' All Wheel Drive'], dtype=object)"
      ]
     },
     "execution_count": 39,
     "metadata": {},
     "output_type": "execute_result"
    }
   ],
   "source": [
    "df.drivetrain.unique()"
   ]
  },
  {
   "cell_type": "code",
   "execution_count": 40,
   "metadata": {},
   "outputs": [],
   "source": [
    "df.loc[df['drivetrain'].str.contains('(?i)4WD|4x4|all|AWD|four'), 'drivetrain'] = 'AWD'\n",
    "df.loc[df['drivetrain'].str.contains('(?i)FWD|front'), 'drivetrain'] = 'FWD'\n",
    "df.loc[df['drivetrain'].str.contains('(?i)RWD|rear'), 'drivetrain'] = 'RWD'\n",
    "df.loc[df['drivetrain'].str.contains('(?i)2WD|4x2|automatic'), 'drivetrain'] = 'FWD'"
   ]
  },
  {
   "cell_type": "markdown",
   "metadata": {},
   "source": [
    "### EDA"
   ]
  },
  {
   "cell_type": "code",
   "execution_count": 41,
   "metadata": {},
   "outputs": [
    {
     "data": {
      "text/plain": [
       "price              int64\n",
       "miles              int64\n",
       "fuel_type         object\n",
       "exterior_color    object\n",
       "interior_color    object\n",
       "drivetrain        object\n",
       "transmission      object\n",
       "engine            object\n",
       "model_name        object\n",
       "dtype: object"
      ]
     },
     "execution_count": 41,
     "metadata": {},
     "output_type": "execute_result"
    }
   ],
   "source": [
    "df.dtypes"
   ]
  },
  {
   "cell_type": "code",
   "execution_count": 42,
   "metadata": {},
   "outputs": [
    {
     "name": "stderr",
     "output_type": "stream",
     "text": [
      "C:\\Users\\arpit\\anaconda3\\lib\\site-packages\\seaborn\\distributions.py:2551: FutureWarning: `distplot` is a deprecated function and will be removed in a future version. Please adapt your code to use either `displot` (a figure-level function with similar flexibility) or `histplot` (an axes-level function for histograms).\n",
      "  warnings.warn(msg, FutureWarning)\n"
     ]
    },
    {
     "data": {
      "text/plain": [
       "<AxesSubplot:xlabel='price', ylabel='Density'>"
      ]
     },
     "execution_count": 42,
     "metadata": {},
     "output_type": "execute_result"
    },
    {
     "data": {
      "image/png": "[encoded data removed]",
      "text/plain": [
       "<Figure size 432x288 with 1 Axes>"
      ]
     },
     "metadata": {
      "needs_background": "light"
     },
     "output_type": "display_data"
    }
   ],
   "source": [
    "seab.distplot(df.price, fit=norm) # Univariate plots"
   ]
  },
  {
   "cell_type": "code",
   "execution_count": 43,
   "metadata": {},
   "outputs": [
    {
     "name": "stderr",
     "output_type": "stream",
     "text": [
      "C:\\Users\\arpit\\anaconda3\\lib\\site-packages\\seaborn\\distributions.py:2551: FutureWarning: `distplot` is a deprecated function and will be removed in a future version. Please adapt your code to use either `displot` (a figure-level function with similar flexibility) or `histplot` (an axes-level function for histograms).\n",
      "  warnings.warn(msg, FutureWarning)\n"
     ]
    },
    {
     "data": {
      "text/plain": [
       "<AxesSubplot:xlabel='miles', ylabel='Density'>"
      ]
     },
     "execution_count": 43,
     "metadata": {},
     "output_type": "execute_result"
    },
    {
     "data": {
      "image/png": "[encoded data removed]",
      "text/plain": [
       "<Figure size 432x288 with 1 Axes>"
      ]
     },
     "metadata": {
      "needs_background": "light"
     },
     "output_type": "display_data"
    }
   ],
   "source": [
    "seab.distplot(df.miles, fit=norm) # Univariate plots"
   ]
  },
  {
   "cell_type": "code",
   "execution_count": 44,
   "metadata": {},
   "outputs": [
    {
     "data": {
      "text/plain": [
       "Text(0, 0.5, 'Price')"
      ]
     },
     "execution_count": 44,
     "metadata": {},
     "output_type": "execute_result"
    },
    {
     "data": {
      "image/png": "[encoded data removed]",
      "text/plain": [
       "<Figure size 432x288 with 1 Axes>"
      ]
     },
     "metadata": {
      "needs_background": "light"
     },
     "output_type": "display_data"
    }
   ],
   "source": [
    "plt.scatter(df.miles, df.price,color=\"orange\") # Multivariante plot\n",
    "plt.xlabel('Miles')\n",
    "plt.ylabel('Price')"
   ]
  },
  {
   "cell_type": "code",
   "execution_count": 45,
   "metadata": {},
   "outputs": [
    {
     "data": {
      "text/plain": [
       "<AxesSubplot:>"
      ]
     },
     "execution_count": 45,
     "metadata": {},
     "output_type": "execute_result"
    },
    {
     "data": {
      "image/png": "[encoded data removed]",
      "text/plain": [
       "<Figure size 432x288 with 1 Axes>"
      ]
     },
     "metadata": {
      "needs_background": "light"
     },
     "output_type": "display_data"
    }
   ],
   "source": [
    "df['fuel_type'].value_counts().plot(kind='bar')"
   ]
  },
  {
   "cell_type": "code",
   "execution_count": 46,
   "metadata": {},
   "outputs": [
    {
     "data": {
      "text/plain": [
       "<AxesSubplot:>"
      ]
     },
     "execution_count": 46,
     "metadata": {},
     "output_type": "execute_result"
    },
    {
     "data": {
      "image/png": "[encoded data removed]",
      "text/plain": [
       "<Figure size 432x288 with 1 Axes>"
      ]
     },
     "metadata": {
      "needs_background": "light"
     },
     "output_type": "display_data"
    }
   ],
   "source": [
    "df['exterior_color'].value_counts().plot(kind='bar')"
   ]
  },
  {
   "cell_type": "code",
   "execution_count": 47,
   "metadata": {},
   "outputs": [
    {
     "data": {
      "text/plain": [
       "<AxesSubplot:>"
      ]
     },
     "execution_count": 47,
     "metadata": {},
     "output_type": "execute_result"
    },
    {
     "data": {
      "image/png": "[encoded data removed]",
      "text/plain": [
       "<Figure size 432x288 with 1 Axes>"
      ]
     },
     "metadata": {
      "needs_background": "light"
     },
     "output_type": "display_data"
    }
   ],
   "source": [
    "df['interior_color'].value_counts().plot(kind='bar')"
   ]
  },
  {
   "cell_type": "code",
   "execution_count": 48,
   "metadata": {},
   "outputs": [
    {
     "data": {
      "text/plain": [
       "<AxesSubplot:>"
      ]
     },
     "execution_count": 48,
     "metadata": {},
     "output_type": "execute_result"
    },
    {
     "data": {
      "image/png": "[encoded data removed]",
      "text/plain": [
       "<Figure size 432x288 with 1 Axes>"
      ]
     },
     "metadata": {
      "needs_background": "light"
     },
     "output_type": "display_data"
    }
   ],
   "source": [
    "df['drivetrain'].value_counts().plot(kind='bar')"
   ]
  },
  {
   "cell_type": "code",
   "execution_count": 49,
   "metadata": {},
   "outputs": [
    {
     "data": {
      "text/plain": [
       "<AxesSubplot:>"
      ]
     },
     "execution_count": 49,
     "metadata": {},
     "output_type": "execute_result"
    },
    {
     "data": {
      "image/png": "[encoded data removed]",
      "text/plain": [
       "<Figure size 432x288 with 1 Axes>"
      ]
     },
     "metadata": {
      "needs_background": "light"
     },
     "output_type": "display_data"
    }
   ],
   "source": [
    "df['transmission'].value_counts().plot(kind='bar')"
   ]
  },
  {
   "cell_type": "code",
   "execution_count": 50,
   "metadata": {},
   "outputs": [
    {
     "data": {
      "text/plain": [
       "<AxesSubplot:>"
      ]
     },
     "execution_count": 50,
     "metadata": {},
     "output_type": "execute_result"
    },
    {
     "data": {
      "image/png": "[encoded data removed]",
      "text/plain": [
       "<Figure size 432x288 with 1 Axes>"
      ]
     },
     "metadata": {
      "needs_background": "light"
     },
     "output_type": "display_data"
    }
   ],
   "source": [
    "df['engine'].value_counts().plot(kind='bar')"
   ]
  },
  {
   "cell_type": "code",
   "execution_count": 51,
   "metadata": {},
   "outputs": [
    {
     "data": {
      "text/plain": [
       "<AxesSubplot:>"
      ]
     },
     "execution_count": 51,
     "metadata": {},
     "output_type": "execute_result"
    },
    {
     "data": {
      "image/png": "[encoded data removed]",
      "text/plain": [
       "<Figure size 432x288 with 1 Axes>"
      ]
     },
     "metadata": {
      "needs_background": "light"
     },
     "output_type": "display_data"
    }
   ],
   "source": [
    "df['model_name'].value_counts().plot(kind='bar')"
   ]
  },
  {
   "cell_type": "markdown",
   "metadata": {},
   "source": [
    "### Drop unneeded columns"
   ]
  },
  {
   "cell_type": "code",
   "execution_count": 52,
   "metadata": {},
   "outputs": [
    {
     "data": {
      "text/plain": [
       "Explorer           68\n",
       "Focus              66\n",
       "Escape             64\n",
       "F-150              61\n",
       "Fusion             58\n",
       "Edge               52\n",
       "Mustang            45\n",
       "EcoSport           30\n",
       "F-250              29\n",
       "Fiesta             24\n",
       "Taurus             23\n",
       "Expedition         22\n",
       "F-350              21\n",
       "Model Unknown      19\n",
       "Transit-250        19\n",
       "Flex               16\n",
       "Transit-350         9\n",
       "Fusion Hybrid       9\n",
       "Transit Connect     8\n",
       "Expedition EL       8\n",
       "Expedition Max      7\n",
       "Transit-150         6\n",
       "C-Max Hybrid        5\n",
       "Ranger              4\n",
       "Shelby GT350        2\n",
       "Freestar            2\n",
       "Fusion Energi       2\n",
       "Focus ST            2\n",
       "Thunderbird         1\n",
       "Crown Victoria      1\n",
       "C-Max Energi        1\n",
       "E350 Super Duty     1\n",
       "Name: model_name, dtype: int64"
      ]
     },
     "execution_count": 52,
     "metadata": {},
     "output_type": "execute_result"
    }
   ],
   "source": [
    "df.model_name.value_counts()"
   ]
  },
  {
   "cell_type": "code",
   "execution_count": 53,
   "metadata": {},
   "outputs": [
    {
     "data": {
      "text/plain": [
       " Charcoal Black          144\n",
       " Ebony                   126\n",
       " Black                    92\n",
       " Ebony Black              61\n",
       " Medium Light Stone       36\n",
       "                        ... \n",
       " Very Dark Pewter          1\n",
       " TAN / BROWN               1\n",
       " CHARCOAL BLACK            1\n",
       " Medium Earth Gr           1\n",
       " Chaparral/Pale Adobe      1\n",
       "Name: interior_color, Length: 87, dtype: int64"
      ]
     },
     "execution_count": 53,
     "metadata": {},
     "output_type": "execute_result"
    }
   ],
   "source": [
    "df.interior_color.value_counts()"
   ]
  },
  {
   "cell_type": "code",
   "execution_count": 54,
   "metadata": {},
   "outputs": [],
   "source": [
    "df.drop(\"interior_color\",axis=\"columns\",inplace=True)\n",
    "df.drop(\"model_name\",axis=\"columns\",inplace=True)"
   ]
  },
  {
   "cell_type": "markdown",
   "metadata": {},
   "source": [
    "### Transforming categorical data"
   ]
  },
  {
   "cell_type": "code",
   "execution_count": 55,
   "metadata": {},
   "outputs": [],
   "source": [
    "trans = pd.get_dummies(df['transmission'], drop_first=True, prefix='transmission') # creates dummy columns\n",
    "df = df.join(trans)"
   ]
  },
  {
   "cell_type": "code",
   "execution_count": 56,
   "metadata": {},
   "outputs": [],
   "source": [
    "trans = pd.get_dummies(df['engine'], drop_first=True, prefix='eng')# creates dummy columns\n",
    "df = df.join(trans)"
   ]
  },
  {
   "cell_type": "code",
   "execution_count": 57,
   "metadata": {},
   "outputs": [],
   "source": [
    "trans = pd.get_dummies(df['fuel_type'], drop_first=True, prefix='fuel')# creates dummy columns\n",
    "df = df.join(trans)"
   ]
  },
  {
   "cell_type": "code",
   "execution_count": 58,
   "metadata": {},
   "outputs": [],
   "source": [
    "trans = pd.get_dummies(df['drivetrain'], drop_first=True, prefix='drive') # creates dummy columns\n",
    "df = df.join(trans)"
   ]
  },
  {
   "cell_type": "code",
   "execution_count": 59,
   "metadata": {},
   "outputs": [],
   "source": [
    "trans = pd.get_dummies(df['exterior_color'], drop_first=True, prefix='color')# creates dummy columns\n",
    "df = df.join(trans)"
   ]
  },
  {
   "cell_type": "code",
   "execution_count": 60,
   "metadata": {},
   "outputs": [],
   "source": [
    "df.drop(['transmission','engine','fuel_type','drivetrain', 'exterior_color'], axis=1, inplace=True) #dropping undesired Columns"
   ]
  },
  {
   "cell_type": "code",
   "execution_count": 61,
   "metadata": {},
   "outputs": [
    {
     "data": {
      "text/html": [
       "<div>\n",
       "<style scoped>\n",
       "    .dataframe tbody tr th:only-of-type {\n",
       "        vertical-align: middle;\n",
       "    }\n",
       "\n",
       "    .dataframe tbody tr th {\n",
       "        vertical-align: top;\n",
       "    }\n",
       "\n",
       "    .dataframe thead th {\n",
       "        text-align: right;\n",
       "    }\n",
       "</style>\n",
       "<table border=\"1\" class=\"dataframe\">\n",
       "  <thead>\n",
       "    <tr style=\"text-align: right;\">\n",
       "      <th></th>\n",
       "      <th>price</th>\n",
       "      <th>miles</th>\n",
       "      <th>transmission_CVT</th>\n",
       "      <th>transmission_Manual</th>\n",
       "      <th>eng_V3</th>\n",
       "      <th>eng_V4</th>\n",
       "      <th>eng_V5</th>\n",
       "      <th>eng_V6</th>\n",
       "      <th>eng_V8</th>\n",
       "      <th>fuel_Gas</th>\n",
       "      <th>...</th>\n",
       "      <th>color_gray</th>\n",
       "      <th>color_green</th>\n",
       "      <th>color_magnetic</th>\n",
       "      <th>color_metallic</th>\n",
       "      <th>color_orange</th>\n",
       "      <th>color_other</th>\n",
       "      <th>color_red</th>\n",
       "      <th>color_silver</th>\n",
       "      <th>color_white</th>\n",
       "      <th>color_yellow</th>\n",
       "    </tr>\n",
       "  </thead>\n",
       "  <tbody>\n",
       "    <tr>\n",
       "      <th>0</th>\n",
       "      <td>15999</td>\n",
       "      <td>48054</td>\n",
       "      <td>0</td>\n",
       "      <td>1</td>\n",
       "      <td>0</td>\n",
       "      <td>0</td>\n",
       "      <td>0</td>\n",
       "      <td>0</td>\n",
       "      <td>0</td>\n",
       "      <td>0</td>\n",
       "      <td>...</td>\n",
       "      <td>0</td>\n",
       "      <td>0</td>\n",
       "      <td>0</td>\n",
       "      <td>0</td>\n",
       "      <td>0</td>\n",
       "      <td>0</td>\n",
       "      <td>1</td>\n",
       "      <td>0</td>\n",
       "      <td>0</td>\n",
       "      <td>0</td>\n",
       "    </tr>\n",
       "    <tr>\n",
       "      <th>1</th>\n",
       "      <td>31795</td>\n",
       "      <td>29050</td>\n",
       "      <td>0</td>\n",
       "      <td>0</td>\n",
       "      <td>0</td>\n",
       "      <td>0</td>\n",
       "      <td>0</td>\n",
       "      <td>1</td>\n",
       "      <td>0</td>\n",
       "      <td>0</td>\n",
       "      <td>...</td>\n",
       "      <td>0</td>\n",
       "      <td>0</td>\n",
       "      <td>0</td>\n",
       "      <td>0</td>\n",
       "      <td>0</td>\n",
       "      <td>0</td>\n",
       "      <td>0</td>\n",
       "      <td>0</td>\n",
       "      <td>1</td>\n",
       "      <td>0</td>\n",
       "    </tr>\n",
       "    <tr>\n",
       "      <th>2</th>\n",
       "      <td>13998</td>\n",
       "      <td>7</td>\n",
       "      <td>0</td>\n",
       "      <td>0</td>\n",
       "      <td>0</td>\n",
       "      <td>1</td>\n",
       "      <td>0</td>\n",
       "      <td>0</td>\n",
       "      <td>0</td>\n",
       "      <td>0</td>\n",
       "      <td>...</td>\n",
       "      <td>0</td>\n",
       "      <td>0</td>\n",
       "      <td>0</td>\n",
       "      <td>0</td>\n",
       "      <td>0</td>\n",
       "      <td>0</td>\n",
       "      <td>0</td>\n",
       "      <td>1</td>\n",
       "      <td>0</td>\n",
       "      <td>0</td>\n",
       "    </tr>\n",
       "    <tr>\n",
       "      <th>3</th>\n",
       "      <td>19237</td>\n",
       "      <td>10</td>\n",
       "      <td>0</td>\n",
       "      <td>0</td>\n",
       "      <td>0</td>\n",
       "      <td>1</td>\n",
       "      <td>0</td>\n",
       "      <td>0</td>\n",
       "      <td>0</td>\n",
       "      <td>0</td>\n",
       "      <td>...</td>\n",
       "      <td>0</td>\n",
       "      <td>0</td>\n",
       "      <td>0</td>\n",
       "      <td>0</td>\n",
       "      <td>0</td>\n",
       "      <td>0</td>\n",
       "      <td>0</td>\n",
       "      <td>0</td>\n",
       "      <td>1</td>\n",
       "      <td>0</td>\n",
       "    </tr>\n",
       "    <tr>\n",
       "      <th>4</th>\n",
       "      <td>38868</td>\n",
       "      <td>3</td>\n",
       "      <td>0</td>\n",
       "      <td>0</td>\n",
       "      <td>1</td>\n",
       "      <td>0</td>\n",
       "      <td>0</td>\n",
       "      <td>0</td>\n",
       "      <td>0</td>\n",
       "      <td>0</td>\n",
       "      <td>...</td>\n",
       "      <td>0</td>\n",
       "      <td>0</td>\n",
       "      <td>0</td>\n",
       "      <td>0</td>\n",
       "      <td>0</td>\n",
       "      <td>0</td>\n",
       "      <td>0</td>\n",
       "      <td>0</td>\n",
       "      <td>1</td>\n",
       "      <td>0</td>\n",
       "    </tr>\n",
       "  </tbody>\n",
       "</table>\n",
       "<p>5 rows × 27 columns</p>\n",
       "</div>"
      ],
      "text/plain": [
       "   price  miles  transmission_CVT  transmission_Manual  eng_V3  eng_V4  \\\n",
       "0  15999  48054                 0                    1       0       0   \n",
       "1  31795  29050                 0                    0       0       0   \n",
       "2  13998      7                 0                    0       0       1   \n",
       "3  19237     10                 0                    0       0       1   \n",
       "4  38868      3                 0                    0       1       0   \n",
       "\n",
       "   eng_V5  eng_V6  eng_V8  fuel_Gas  ...  color_gray  color_green  \\\n",
       "0       0       0       0         0  ...           0            0   \n",
       "1       0       1       0         0  ...           0            0   \n",
       "2       0       0       0         0  ...           0            0   \n",
       "3       0       0       0         0  ...           0            0   \n",
       "4       0       0       0         0  ...           0            0   \n",
       "\n",
       "   color_magnetic  color_metallic  color_orange  color_other  color_red  \\\n",
       "0               0               0             0            0          1   \n",
       "1               0               0             0            0          0   \n",
       "2               0               0             0            0          0   \n",
       "3               0               0             0            0          0   \n",
       "4               0               0             0            0          0   \n",
       "\n",
       "   color_silver  color_white  color_yellow  \n",
       "0             0            0             0  \n",
       "1             0            1             0  \n",
       "2             1            0             0  \n",
       "3             0            1             0  \n",
       "4             0            1             0  \n",
       "\n",
       "[5 rows x 27 columns]"
      ]
     },
     "execution_count": 61,
     "metadata": {},
     "output_type": "execute_result"
    }
   ],
   "source": [
    "df.head()"
   ]
  },
  {
   "cell_type": "markdown",
   "metadata": {},
   "source": [
    "### Save the Dataset"
   ]
  },
  {
   "cell_type": "code",
   "execution_count": 62,
   "metadata": {},
   "outputs": [],
   "source": [
    "df.to_csv(\"Lab02_AMo37709.csv\",index=False)"
   ]
  }
 ],
 "metadata": {
  "kernelspec": {
   "display_name": "Python 3",
   "language": "python",
   "name": "python3"
  },
  "language_info": {
   "codemirror_mode": {
    "name": "ipython",
    "version": 3
   },
   "file_extension": ".py",
   "mimetype": "text/x-python",
   "name": "python",
   "nbconvert_exporter": "python",
   "pygments_lexer": "ipython3",
   "version": "3.8.5"
  }
 },
 "nbformat": 4,
 "nbformat_minor": 4
}
